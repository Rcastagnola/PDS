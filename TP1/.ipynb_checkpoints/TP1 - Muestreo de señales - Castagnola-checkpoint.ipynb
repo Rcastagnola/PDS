{
 "cells": [
  {
   "cell_type": "markdown",
   "metadata": {},
   "source": [
    "\n",
    "#### Procesamiento Digital de Señales\n",
    "\n",
    "# Trabajo Práctico 1\n",
    "#### Ramiro Castagnola\n",
    "\n",
    "***\n",
    "## Muestreo de señales - Fourier\n"
   ]
  },
  {
   "cell_type": "markdown",
   "metadata": {},
   "source": [
    "<div class=\"alert alert-block alert-info\">\n",
    "<b>1)</b> Se busca realizar una librería en Python que nos permita obtener $N$ muestras de las siguientes señales de período $T_0=1/f_0$, muestreadas a una frecuencia $f_s$ :\n",
    "\n",
    "</div>"
   ]
  },
  {
   "cell_type": "markdown",
   "metadata": {
    "solution": "shown"
   },
   "source": [
    "\n",
    "+ **Senoidal**\n",
    "\n",
    "> $s(k)=A_0.sin((2\\pi.f_0 + \\phi_0).k/f_s),\\space\\space \\forall k \\in \\Bbb{Z} \\wedge k \\in (0, N-1)$\n",
    "\n",
    "+ __Ruido__ incorrelado de distribución Gaussiana y parámetros $\\mu$ y $\\sigma^2$\n",
    "\n",
    "***\n",
    "\n",
    "+ (Opcional) __Cuadrada__ con ciclo de actividad $d \\in (0,1)$\n",
    "\n",
    "> $s(k)=A_0,\\space\\space \\forall k \\in (0, N.d ]$ \n",
    "\n",
    "> $s(k)=-A_0,\\space \\forall k \\in (N.d, N-1)$\n",
    "\n",
    "+ (Opcional) __Triangular__ con punto de simetría $d \\in (0,1)$ y coeficientes $a_{ij} \\in \\Bbb{R}$\n",
    "\n",
    "> $s(k)=a_{11}.k/f_s+a_{12},\\space\\space \\forall k \\in (0, N.d ]$ \n",
    "\n",
    "> $s(k)=a_{21}.k/f_s+a_{22},\\space \\forall k \\in (N.d, N-1)$\n"
   ]
  },
  {
   "cell_type": "markdown",
   "metadata": {},
   "source": [
    "Es decir que se podría invocar la señal que genere la senoidal de la siguiente manera:\n"
   ]
  },
  {
   "cell_type": "code",
   "execution_count": 1,
   "metadata": {},
   "outputs": [],
   "source": [
    "\n",
    "def generador_senoidal (fs, f0, N, a0=1, p0=0):\n",
    "    \"\"\" \n",
    "    \n",
    "    brief:  Generador de señales senoidal, con argumentos\n",
    "    \n",
    "    fs:     frecuencia de muestreo de la señal [Hz]\n",
    "    N:      cantidad de muestras de la señal a generar\n",
    "    f0:     frecuencia de la senoidal [Hz]\n",
    "    a0:     amplitud pico de la señal [V]\n",
    "    p0:     fase de la señal sinusoidal [rad]\n",
    "    \n",
    "    como resultado la señal devuelve:\n",
    "    \n",
    "    signal: senoidal evaluada en cada instante \n",
    "    tt:     base de tiempo de la señal\n",
    "    \"\"\"    \n",
    "\n",
    "    # comienzo de la función\n",
    "\n",
    "    tt = np.linspace (0,((N-1)*(1/fs)),N)\n",
    "\n",
    "    signal = a0*np.sin(2*np.pi*f0*tt+p0)\n",
    "    \n",
    "    plt.title('Señal: senoidal' )\n",
    "    plt.xlabel('tiempo [segundos]')\n",
    "    plt.ylabel('Amplitud [V]')\n",
    "    \n",
    "    plt.plot(tt, signal)\n",
    "\n",
    "    plt.show()\n",
    "    \n",
    "    # fin de la función\n",
    "    \n",
    "    return tt, signal\n",
    "\n",
    "def generador_rectangular (t1, t2, N, ao=1):        \n",
    "\n",
    "    time1 = t1 / (t1+t2)\n",
    "\n",
    "    N1Time = N*time1\n",
    "    N1 = int(N1Time)\n",
    "\n",
    "    time2 = t2 / (t1+t2)\n",
    "\n",
    "    N2Time = N*time2\n",
    "    N2 = int(N2Time)\n",
    "\n",
    "    ones = a0 * np.ones(N1)\n",
    "    zeros = a0 * np.zeros(N2)\n",
    "\n",
    "    signal = np.concatenate((ones, zeros), axis=None)\n",
    "    \n",
    "    plt.plot(signal)\n",
    "    plt.show()\n",
    "\n",
    "    \n",
    "    return\n",
    "\n",
    "def generador_triangular (fs, t1, t2, N, ao=1):\n",
    "    \n",
    "    tt = np.linspace (0,((N-1)*(1/fs)),N)\n",
    "\n",
    "    time1 = t1 / (t1+t2)\n",
    "    \n",
    "    N1Time = N*time1\n",
    "    N1 = int(N1Time)\n",
    "    X1 = int(N1/2)\n",
    "\n",
    "    time2 = t2 / (t1+t2)\n",
    "\n",
    "    N2Time = N*time2\n",
    "    N2 = int(N2Time)\n",
    "    X2 = int(N2/2)\n",
    "    L2 = N-X2\n",
    "\n",
    "    ones = a0 * np.ones(N1)\n",
    "    zeros = -a0 * np.ones(N2)\n",
    "\n",
    "    signal = np.concatenate((ones, zeros), axis=None)\n",
    "\n",
    "    signal1 = signal[0:X1] *tt[0:X1] \n",
    "    signal2 = signal[X1:N1]*(t1-tt)[X1:N1]\n",
    "\n",
    "    signal3 = signal[N1:L2] *tt[0:X2] \n",
    "    signal4 = signal[L2:N]*(t2-tt)[X2:N2]\n",
    "\n",
    "      \n",
    "    signal5 = np.concatenate((signal1, signal2, signal3, signal4), axis=None)\n",
    "\n",
    "    plt.plot(tt, signal5)\n",
    "    plt.show()\n",
    "    \n",
    "    return"
   ]
  },
  {
   "cell_type": "markdown",
   "metadata": {},
   "source": [
    "a) Genere las gráficas asociadas a las siguientes señales de ejemplo para corroborar el correcto funcionamiento de las funciones. Para la presentación de las mismas, tome como referencia la presentación de la siguiente señal respecto a:\n",
    "\n",
    "* etiquetas indicando cada eje con sus respectivas unidades\n",
    "* leyendas indicando cada trazo o color qué representa\n",
    "* título de la figura que explique lo que se pretende visualizar\n"
   ]
  },
  {
   "cell_type": "code",
   "execution_count": 2,
   "metadata": {},
   "outputs": [],
   "source": [
    "import numpy as np\n",
    "import matplotlib as mpl\n",
    "import matplotlib.pyplot as plt\n",
    "\n",
    "# Insertar aquí el código para inicializar tu notebook\n",
    "########################################################\n"
   ]
  },
  {
   "cell_type": "code",
   "execution_count": 3,
   "metadata": {},
   "outputs": [],
   "source": [
    "# NO modifiques este bloque\n",
    "############################\n",
    "\n",
    "N  = 1000 # muestras\n",
    "fs = 1000 # Hz\n"
   ]
  },
  {
   "cell_type": "code",
   "execution_count": 4,
   "metadata": {},
   "outputs": [
    {
     "data": {
      "image/png": "[encoded data removed]",
      "text/plain": [
       "<Figure size 432x288 with 1 Axes>"
      ]
     },
     "metadata": {},
     "output_type": "display_data"
    }
   ],
   "source": [
    "##################\n",
    "# a.1) Senoidal #\n",
    "#################\n",
    "\n",
    "a0 = 1 # Volts\n",
    "p0 = 0 # radianes\n",
    "f0 = 10   # Hz\n",
    "\n",
    "tt, signal = generador_senoidal (fs, f0, N, a0, p0)\n",
    "\n",
    "# Insertar aquí el código para generar y visualizar la señal\n",
    "##############################################################\n"
   ]
  },
  {
   "cell_type": "markdown",
   "metadata": {},
   "source": [
    "¿Podría inferir la frecuencia de la senoidal a.1 a partir de su representación temporal?\n"
   ]
  },
  {
   "cell_type": "markdown",
   "metadata": {},
   "source": [
    "<div class=\"alert alert-block alert-warning\">\n",
    "<b>Respuesta:</b> Si, contando la cantidad de ciclos en 1 segundo.\n",
    "</div>"
   ]
  },
  {
   "cell_type": "code",
   "execution_count": 5,
   "metadata": {},
   "outputs": [
    {
     "data": {
      "image/png": "[encoded data removed]",
      "text/plain": [
       "<Figure size 432x288 with 1 Axes>"
      ]
     },
     "metadata": {},
     "output_type": "display_data"
    }
   ],
   "source": [
    "##################\n",
    "# a.2) Senoidal #\n",
    "#################\n",
    "\n",
    "a0 = 1 # Volts\n",
    "p0 = 0 # radianes\n",
    "f0 = fs/2   # Hz\n",
    "\n",
    "tt, signal = generador_senoidal (fs, f0, N, a0, p0)\n",
    "\n",
    "# Insertar aquí el código para generar y visualizar la señal\n",
    "##############################################################\n"
   ]
  },
  {
   "cell_type": "code",
   "execution_count": 6,
   "metadata": {},
   "outputs": [
    {
     "data": {
      "image/png": "[encoded data removed]",
      "text/plain": [
       "<Figure size 432x288 with 1 Axes>"
      ]
     },
     "metadata": {},
     "output_type": "display_data"
    }
   ],
   "source": [
    "##################\n",
    "# a.3) Senoidal #\n",
    "#################\n",
    "\n",
    "a0 = 1       # Volts\n",
    "p0 = np.pi/2 # radianes\n",
    "f0 = fs/2    # Hz\n",
    "\n",
    "tt, signal = generador_senoidal (fs, f0, N, a0, p0)\n",
    "\n",
    "# Insertar aquí el código para generar y visualizar la señal\n",
    "##############################################################\n"
   ]
  },
  {
   "cell_type": "markdown",
   "metadata": {},
   "source": [
    "¿Y para los casos **a.2** y **a.3** podría conocer los parámetros de la senoidal?"
   ]
  },
  {
   "cell_type": "markdown",
   "metadata": {},
   "source": [
    "<div class=\"alert alert-block alert-warning\">\n",
    "<b>Respuesta:</b> No\n",
    "</div>"
   ]
  },
  {
   "cell_type": "markdown",
   "metadata": {},
   "source": [
    "¿A qué se debe?"
   ]
  },
  {
   "cell_type": "markdown",
   "metadata": {},
   "source": [
    "<div class=\"alert alert-block alert-warning\">\n",
    "<b>Respuesta:</b> Dada la condición de que nuestra frecuencia de muestreo debe ser mayor o igual al doble de la frecuencia máxima de trabajo, nos encontramos en el límite en el cual se puede obtener informacion coherente de nuestra señal, pero debido a la poca cantidad de puntos en un corto periodo de tiempo, no se puede apreciar la información. \n",
    "</div>"
   ]
  },
  {
   "cell_type": "code",
   "execution_count": 7,
   "metadata": {},
   "outputs": [
    {
     "data": {
      "image/png": "[encoded data removed]",
      "text/plain": [
       "<Figure size 432x288 with 1 Axes>"
      ]
     },
     "metadata": {},
     "output_type": "display_data"
    }
   ],
   "source": [
    "##################\n",
    "# a.4) Senoidal #\n",
    "#################\n",
    "\n",
    "a0 = 1     # Volts\n",
    "p0 = 0     # radianes\n",
    "f0 = fs+10 # Hz\n",
    "\n",
    "tt, signal = generador_senoidal (fs, f0, N, a0, p0)\n",
    "\n",
    "# Insertar aquí el código para generar y visualizar la señal\n",
    "##############################################################\n"
   ]
  },
  {
   "cell_type": "markdown",
   "metadata": {},
   "source": [
    "¿Es posible diferenciar **a.1** de **a.4** a partir de las gráficas?"
   ]
  },
  {
   "cell_type": "markdown",
   "metadata": {},
   "source": [
    "<div class=\"alert alert-block alert-warning\">\n",
    "<b>Respuesta:</b> No, graficamente son identicas.\n",
    "</div>"
   ]
  },
  {
   "cell_type": "markdown",
   "metadata": {},
   "source": [
    "¿En caso que no, qué solución podría implementar para evitar dicha ambigüedad?"
   ]
  },
  {
   "cell_type": "markdown",
   "metadata": {},
   "source": [
    "<div class=\"alert alert-block alert-warning\">\n",
    "<b>Respuesta:</b> Trabajando unicamente entre frecuencias de (1:fs/2)Hz, o realizando un corrimiento de \"-fs\" para volver a nuestra frecuencia de trabajo normal\n",
    "</div>"
   ]
  },
  {
   "cell_type": "markdown",
   "metadata": {},
   "source": [
    "<div class=\"alert alert-block alert-info\">\n",
    "<b>2.a)</b> (Opcional) Implemente un algoritmo que calcule la transformada discreta de Fourier (DFT). Utilice las funciones generadoras de señales de 1) para evaluar y ejemplificar su funcionamiento.\n",
    "</div>"
   ]
  },
  {
   "cell_type": "markdown",
   "metadata": {},
   "source": [
    "<div class=\"alert alert-block alert-info\">\n",
    "<b>2.b)</b> (Opcional) Compare el tiempo de ejecución de la DFT implementada en con la **FFT** (implementada en **scipy.signal**) en función del tamaño de la señal N. Grafique el tiempo de ejecución de ambos casos en función de N.\n",
    "</div>"
   ]
  },
  {
   "cell_type": "markdown",
   "metadata": {},
   "source": [
    "<div class=\"alert alert-block alert-success\">\n",
    "<b>Ayuda:</b> Utilice el módulo **timeit** para medir el tiempo transcurrido.\n",
    "</div>"
   ]
  },
  {
   "cell_type": "code",
   "execution_count": 8,
   "metadata": {},
   "outputs": [
    {
     "name": "stdout",
     "output_type": "stream",
     "text": [
      "hello\n",
      "-0.002678942696082029\n"
     ]
    }
   ],
   "source": [
    "import timeit\n",
    "\n",
    "the_start = timeit.timeit()\n",
    "print(\"hello\")\n",
    "the_end = timeit.timeit()\n",
    "print(the_start - the_end)\n"
   ]
  },
  {
   "cell_type": "markdown",
   "metadata": {},
   "source": [
    "<div class=\"alert alert-block alert-danger\">\n",
    "<b>¡Atención!:</b> Completá la siguiente tabla. Podés guardar tus resultados en la lista **tus_resultados**.\n",
    "</div>"
   ]
  },
  {
   "cell_type": "code",
   "execution_count": 9,
   "metadata": {},
   "outputs": [
    {
     "data": {
      "image/png": "[encoded data removed]",
      "text/plain": [
       "<Figure size 432x288 with 1 Axes>"
      ]
     },
     "metadata": {},
     "output_type": "display_data"
    },
    {
     "data": {
      "image/png": "[encoded data removed]",
      "text/plain": [
       "<Figure size 432x288 with 1 Axes>"
      ]
     },
     "metadata": {},
     "output_type": "display_data"
    },
    {
     "data": {
      "image/png": "[encoded data removed]",
      "text/plain": [
       "<Figure size 432x288 with 1 Axes>"
      ]
     },
     "metadata": {},
     "output_type": "display_data"
    },
    {
     "data": {
      "text/html": [
       "<table border=\"1\" class=\"dataframe\">\n",
       "  <thead>\n",
       "    <tr style=\"text-align: right;\">\n",
       "      <th></th>\n",
       "      <th>tiempo transcurrido (s)</th>\n",
       "    </tr>\n",
       "  </thead>\n",
       "  <tbody>\n",
       "    <tr>\n",
       "      <th>Tamaño de la señal N</th>\n",
       "      <td>--</td>\n",
       "    </tr>\n",
       "    <tr>\n",
       "      <th>16</th>\n",
       "      <td></td>\n",
       "    </tr>\n",
       "    <tr>\n",
       "      <th>32</th>\n",
       "      <td></td>\n",
       "    </tr>\n",
       "    <tr>\n",
       "      <th>64</th>\n",
       "      <td></td>\n",
       "    </tr>\n",
       "    <tr>\n",
       "      <th>128</th>\n",
       "      <td></td>\n",
       "    </tr>\n",
       "    <tr>\n",
       "      <th>256</th>\n",
       "      <td></td>\n",
       "    </tr>\n",
       "    <tr>\n",
       "      <th>512</th>\n",
       "      <td></td>\n",
       "    </tr>\n",
       "    <tr>\n",
       "      <th>1024</th>\n",
       "      <td></td>\n",
       "    </tr>\n",
       "    <tr>\n",
       "      <th>2048</th>\n",
       "      <td></td>\n",
       "    </tr>\n",
       "  </tbody>\n",
       "</table>"
      ],
      "text/plain": [
       "<IPython.core.display.HTML object>"
      ]
     },
     "execution_count": 9,
     "metadata": {},
     "output_type": "execute_result"
    }
   ],
   "source": [
    "from pandas import DataFrame\n",
    "from IPython.display import HTML\n",
    "\n",
    "#######################################\n",
    "# Tu simulación que genere resultados #\n",
    "#######################################\n",
    "import numpy as np\n",
    "import matplotlib.pylab as plt\n",
    "import scipy.integrate as integrate\n",
    "\n",
    "N  = 1000 # muestras\n",
    "fs = 1000 # Hz\n",
    "a0 = 1 # Volts\n",
    "p0 = 0 # radianes\n",
    "f0 = 10   # Hz\n",
    "\n",
    "tt, signal = generador_senoidal (fs, f0, N, a0, p0)\n",
    "\n",
    "zeros = np.zeros((N), dtype=np.complex)\n",
    "\n",
    "for k in range(N):\n",
    "    \n",
    "    for n in range(N):\n",
    "        \n",
    "        zeros[k] = zeros[k] + signal[n] * np.exp(-1j*2*np.pi*k*n/N)\n",
    "        \n",
    "plt.title('DFT MANUAL' )\n",
    "plt.xlabel('frecuencia [Hz]')\n",
    "plt.ylabel('Amplitud')        \n",
    "plt.stem(np.absolute(zeros)[0:500])\n",
    "plt.show()\n",
    "\n",
    "plt.title('DFT por función' )\n",
    "plt.xlabel('Frecuencia [Hz]')\n",
    "plt.ylabel('Amplitud')\n",
    "sp = np.fft.fft(signal)\n",
    "plt.stem(np.absolute(sp)[0:500])\n",
    "plt.show()\n",
    "\n",
    "tus_resultados = [ ['--'], \n",
    "                   [''], # <-- acá debería haber numeritos :)\n",
    "                   [''], # <-- acá debería haber numeritos :)\n",
    "                   [''], # <-- acá debería haber numeritos :)\n",
    "                   [''], # <-- acá debería haber numeritos :)\n",
    "                   [''], # <-- acá debería haber numeritos :)\n",
    "                   [''], # <-- acá debería haber numeritos :)\n",
    "                   [''], # <-- acá debería haber numeritos :)\n",
    "                   ['']  # <-- acá debería haber numeritos :)\n",
    "                 ]\n",
    "df = DataFrame(tus_resultados, columns=['tiempo transcurrido (s)'],\n",
    "               index=['Tamaño de la señal N', \n",
    "                      16, \n",
    "                      32, \n",
    "                      64, \n",
    "                      128,\n",
    "                      256,\n",
    "                      512,\n",
    "                      1024,\n",
    "                      2048\n",
    "                     ])\n",
    "HTML(df.to_html())\n"
   ]
  },
  {
   "cell_type": "markdown",
   "metadata": {},
   "source": [
    "<div class=\"alert alert-block alert-info\">\n",
    "<b>3.a)</b> Verifique el efecto del leakage para una senoidal de $f_0 = f_S/4 + f_D$ siendo $f_D = (0.01,\\, 0.25,\\, 0.5)$, es decir una frecuencia de desintonía respecto al bin $f_S/4$.\n",
    "</div>"
   ]
  },
  {
   "cell_type": "markdown",
   "metadata": {},
   "source": [
    "<div class=\"alert alert-block alert-danger\">\n",
    "<b>¡Atención!:</b> Completá la siguiente tabla. Podés guardar tus resultados en la lista **tus_resultados**.\n",
    "</div>"
   ]
  },
  {
   "cell_type": "code",
   "execution_count": 10,
   "metadata": {},
   "outputs": [
    {
     "data": {
      "image/png": "[encoded data removed]",
      "text/plain": [
       "<Figure size 432x288 with 1 Axes>"
      ]
     },
     "metadata": {},
     "output_type": "display_data"
    },
    {
     "data": {
      "image/png": "[encoded data removed]",
      "text/plain": [
       "<Figure size 432x288 with 1 Axes>"
      ]
     },
     "metadata": {},
     "output_type": "display_data"
    },
    {
     "data": {
      "image/png": "[encoded data removed]",
      "text/plain": [
       "<Figure size 432x288 with 1 Axes>"
      ]
     },
     "metadata": {},
     "output_type": "display_data"
    },
    {
     "data": {
      "text/html": [
       "<table border=\"1\" class=\"dataframe\">\n",
       "  <thead>\n",
       "    <tr style=\"text-align: right;\">\n",
       "      <th></th>\n",
       "      <th>Frecuencia central</th>\n",
       "      <th>Primer adyacente</th>\n",
       "      <th>Resto de frecuencias</th>\n",
       "    </tr>\n",
       "  </thead>\n",
       "  <tbody>\n",
       "    <tr>\n",
       "      <th>$f_0$ \\ expr. matemática</th>\n",
       "      <td>$ \\lvert X(f_0) \\lvert$</td>\n",
       "      <td>$ \\lvert X(f_0+1) \\lvert $</td>\n",
       "      <td>$\\sum_{i=F} \\lvert X(f_i) \\lvert$</td>\n",
       "    </tr>\n",
       "    <tr>\n",
       "      <th></th>\n",
       "      <td></td>\n",
       "      <td></td>\n",
       "      <td>$F:f \\neq f_0$</td>\n",
       "    </tr>\n",
       "    <tr>\n",
       "      <th>$f_S/4$</th>\n",
       "      <td>500</td>\n",
       "      <td>1.01162e-11</td>\n",
       "      <td>5.08351e-10</td>\n",
       "    </tr>\n",
       "    <tr>\n",
       "      <th>$f_S/4+0.01$</th>\n",
       "      <td>499.917</td>\n",
       "      <td>5.05069</td>\n",
       "      <td>63.3873</td>\n",
       "    </tr>\n",
       "    <tr>\n",
       "      <th>$f_S/4+0.25$</th>\n",
       "      <td>449.805</td>\n",
       "      <td>150.406</td>\n",
       "      <td>1402.14</td>\n",
       "    </tr>\n",
       "    <tr>\n",
       "      <th>$f_S/4+0.5$</th>\n",
       "      <td>318.309</td>\n",
       "      <td>318.312</td>\n",
       "      <td>2141.12</td>\n",
       "    </tr>\n",
       "  </tbody>\n",
       "</table>"
      ],
      "text/plain": [
       "<IPython.core.display.HTML object>"
      ]
     },
     "execution_count": 10,
     "metadata": {},
     "output_type": "execute_result"
    }
   ],
   "source": [
    "#######################################\n",
    "# Tu simulación que genere resultados #\n",
    "#######################################\n",
    "import numpy as np\n",
    "import matplotlib.pylab as plt\n",
    "\n",
    "N  = 1000 # muestras\n",
    "fs = 1000 # Hz\n",
    "a0 = 1 # Volts\n",
    "p0 = 0 # radianes\n",
    "\n",
    "fd1 = 0.01\n",
    "fd2 = 0.25\n",
    "fd3 = 0.5\n",
    "\n",
    "f0 = fs/4\n",
    "f01 = fs/4 + fd1\n",
    "f02 = fs/4 + fd2\n",
    "f03 = fs/4 + fd3\n",
    "\n",
    "df = fs/N\n",
    "\n",
    "\n",
    "tt = np.linspace (0,((N-1)*(1/fs)),N)\n",
    "\n",
    "ff = np.linspace(0, (N-1)*df, N)\n",
    "\n",
    "signal0 = a0*np.sin(2*np.pi*f0*tt+p0)    \n",
    "signal1 = a0*np.sin(2*np.pi*f01*tt+p0)\n",
    "signal2 = a0*np.sin(2*np.pi*f02*tt+p0)\n",
    "signal3 = a0*np.sin(2*np.pi*f03*tt+p0)\n",
    "\n",
    "sp0 = np.fft.fft(signal0)\n",
    "\n",
    "sp1 = np.fft.fft(signal1)\n",
    "\n",
    "plt.stem(np.absolute(sp1)[0:500])\n",
    "plt.show()\n",
    "\n",
    "sp2 = np.fft.fft(signal2)\n",
    "\n",
    "plt.stem(np.absolute(sp2)[0:500])\n",
    "plt.show()\n",
    "\n",
    "sp3 = np.fft.fft(signal3)\n",
    "\n",
    "plt.stem(np.absolute(sp3)[0:500])\n",
    "plt.show()\n",
    "\n",
    "x01 = np.absolute(sp0)[250]\n",
    "x11 = np.absolute(sp1)[250]\n",
    "x21 = np.absolute(sp2)[250]\n",
    "x31 = np.absolute(sp3)[250]\n",
    "\n",
    "x02 = np.absolute(sp0)[251]\n",
    "x12 = np.absolute(sp1)[251]\n",
    "x22 = np.absolute(sp2)[251]\n",
    "x32 = np.absolute(sp3)[251]\n",
    "\n",
    "x03 = sum(np.absolute(sp0)[0:500])-np.absolute(sp0)[250]\n",
    "x13 = sum(np.absolute(sp1)[0:500])-np.absolute(sp1)[250]\n",
    "x23 = sum(np.absolute(sp2)[0:500])-np.absolute(sp2)[250]\n",
    "x33 = sum(np.absolute(sp3)[0:500])-np.absolute(sp3)[250]\n",
    "\n",
    "tus_resultados = [ ['$ \\lvert X(f_0) \\lvert$', '$ \\lvert X(f_0+1) \\lvert $', '$\\sum_{i=F} \\lvert X(f_i) \\lvert$'], \n",
    "                   ['',                        '',                           '$F:f \\neq f_0$'], \n",
    "                  [x01, x02, x03], # <-- acá debería haber numeritos :)\n",
    "                  [x11, x12, x13], # <-- acá debería haber numeritos :)\n",
    "                  [x21, x22, x23], # <-- acá debería haber numeritos :)\n",
    "                  [x31, x32, x33]  # <-- acá debería haber numeritos :)\n",
    "                 ]\n",
    "df = DataFrame(tus_resultados, columns=['Frecuencia central', 'Primer adyacente', 'Resto de frecuencias'],\n",
    "               index=['$f_0$ \\ expr. matemática', \n",
    "                      '', \n",
    "                      '$f_S/4$', \n",
    "                      '$f_S/4+0.01$', \n",
    "                      '$f_S/4+0.25$', \n",
    "                      '$f_S/4+0.5$'])\n",
    "HTML(df.to_html())\n"
   ]
  },
  {
   "cell_type": "markdown",
   "metadata": {},
   "source": [
    "<div class=\"alert alert-block alert-info\">\n",
    "<b>3.b)</b> Verifique qué ocurre si a la señal se le agregan ceros para prolongar su duración. Es decir si la señal tiene N muestras, agregue $M_j$ ceros siendo $M_j = ( \\frac{N}{10},\\, N,\\, 10N)$. \n",
    "</div>"
   ]
  },
  {
   "cell_type": "code",
   "execution_count": 11,
   "metadata": {},
   "outputs": [
    {
     "data": {
      "image/png": "[encoded data removed]",
      "text/plain": [
       "<Figure size 432x288 with 1 Axes>"
      ]
     },
     "metadata": {},
     "output_type": "display_data"
    },
    {
     "data": {
      "image/png": "[encoded data removed]",
      "text/plain": [
       "<Figure size 432x288 with 1 Axes>"
      ]
     },
     "metadata": {},
     "output_type": "display_data"
    },
    {
     "data": {
      "image/png": "[encoded data removed]",
      "text/plain": [
       "<Figure size 432x288 with 1 Axes>"
      ]
     },
     "metadata": {},
     "output_type": "display_data"
    }
   ],
   "source": [
    "import numpy as np\n",
    "import matplotlib.pylab as plt\n",
    "\n",
    "N  = 1000 # muestras\n",
    "fs = 1000 # Hz\n",
    "a0 = 1 # Volts\n",
    "p0 = 0 # radianes\n",
    "\n",
    "f0 = 9\n",
    "\n",
    "df = fs/N\n",
    "\n",
    "tt = np.linspace (0,((N-1)*(1/fs)),N)\n",
    "\n",
    "ff = np.linspace(0, (N-1)*df, N)\n",
    "    \n",
    "signal = a0*np.sin(2*np.pi*f0*tt+p0)\n",
    "\n",
    "\n",
    "N1 = int(N/10)\n",
    "N2 = int(N*10)\n",
    "\n",
    "Ceros1 = np.zeros(N1)\n",
    "\n",
    "Ceros2 = np.zeros(N2)\n",
    "\n",
    "\n",
    "resultado = np.concatenate((Ceros1, signal , Ceros2), axis=None)\n",
    "\n",
    "plt.plot(resultado)\n",
    "plt.show()\n",
    "\n",
    "sp = np.fft.fft(resultado)\n",
    "\n",
    "\n",
    "plt.stem(np.absolute(sp)[0:500])\n",
    "plt.show()\n",
    "plt.plot(20*np.log10(np.absolute(sp)[0:500]))\n",
    "plt.show()\n",
    "\n",
    "plt.show()"
   ]
  },
  {
   "cell_type": "markdown",
   "metadata": {},
   "source": [
    "**3.c)** ¿Ha variado la resolución espectral en los casos de 3.b?"
   ]
  },
  {
   "cell_type": "markdown",
   "metadata": {},
   "source": [
    "<div class=\"alert alert-block alert-warning\">\n",
    "<b>Respuesta:</b> Si.\n",
    "</div>"
   ]
  },
  {
   "cell_type": "markdown",
   "metadata": {},
   "source": [
    "**3.d)** ¿Cuál es el efecto que se produce en cada caso? Esta técnica se conoce como Zero padding."
   ]
  },
  {
   "cell_type": "markdown",
   "metadata": {},
   "source": [
    "<div class=\"alert alert-block alert-warning\">\n",
    "<b>Respuesta:</b> Con esta técnica, al aumentar considerablemente la cantidad de muestras, se logra obtener una señal mas definida en el dominio de la frecuencia. Asi también tomando una señal con una frecuencia de 9Hz, al realizar el Zero-padding, vemos un desplazamiento del valor de frecuencia donde se encuentra el lobulo central hacia los 100hz\n",
    "</div>"
   ]
  },
  {
   "cell_type": "markdown",
   "metadata": {},
   "source": [
    "<div class=\"alert alert-block alert-info\">\n",
    "<b>4)</b> \n",
    "Para cada señal propuesta complete los valores que se indican en las siguientes consignas.\n",
    "</div>"
   ]
  },
  {
   "cell_type": "markdown",
   "metadata": {},
   "source": [
    "+ En la tabla de resultados de cada inciso, en la fila indicada con **predicción** responda conceptualmente qué contenido espectral debería obtener tras evaluar su FFT (sin realizar ninguna simulación).\n",
    "+ Calcule su espectro y discuta la predicción con los resultados obtenidos de la **simulación**. Intente discutir las diferencias si las hubiera en las respuestas de cada inciso.\n",
    "+ Preste especial atención en su discusión a:\n",
    "  * La energía total de la señal\n",
    "  * La energía del tono en particular\n",
    "  * La localización del tono en el espectro\n",
    "+ Siga las indicaciones particulares para cada señal.\n"
   ]
  },
  {
   "cell_type": "markdown",
   "metadata": {},
   "source": [
    "<div class=\"alert alert-block alert-success\">\n",
    "<b>Ayuda:</b> Las siguientes señales pueden generarse a partir de una senoidal *patrón* siguiendo las consignas de la derecha. \n",
    "</div>"
   ]
  },
  {
   "cell_type": "markdown",
   "metadata": {},
   "source": [
    "<table width=\"80%\" cellpadding=\"7\" cellspacing=\"0\">\n",
    "\t<col width=\"50%\">\n",
    "\t<col width=\"50%\">\n",
    "\t<tbody>\n",
    "\t\t<tr valign=\"top\">\n",
    "\t\t\t<td width=\"267\" style=\"border-top: none; border-bottom: none; border-left: none; border-right: none; padding-top: 0cm; padding-bottom: 0cm; padding-left: 0.19cm; padding-right: 0cm\">\n",
    "\t\t\t\t<p style=\"margin-bottom: 0cm\"><span lang=\"es-AR\">Senoidal\n",
    "\t\t\t\tde **energía normalizada** y frecuencia $f_0 = 9 \\cdot f_S/N$. </span></font>\n",
    "\t\t\t\t</p>\n",
    "\t\t\t</td>\n",
    "\t\t</tr>\n",
    "\t</tbody>\n",
    "</table>\n",
    "        "
   ]
  },
  {
   "cell_type": "code",
   "execution_count": 12,
   "metadata": {},
   "outputs": [
    {
     "data": {
      "image/png": "[encoded data removed]",
      "text/plain": [
       "<Figure size 432x288 with 1 Axes>"
      ]
     },
     "metadata": {},
     "output_type": "display_data"
    },
    {
     "data": {
      "image/png": "[encoded data removed]",
      "text/plain": [
       "<Figure size 432x288 with 1 Axes>"
      ]
     },
     "metadata": {},
     "output_type": "display_data"
    },
    {
     "data": {
      "text/html": [
       "<table border=\"1\" class=\"dataframe\">\n",
       "  <thead>\n",
       "    <tr style=\"text-align: right;\">\n",
       "      <th></th>\n",
       "      <th>Energía total</th>\n",
       "      <th>Energía en $f_0$</th>\n",
       "      <th>Máximo de Energía</th>\n",
       "    </tr>\n",
       "  </thead>\n",
       "  <tbody>\n",
       "    <tr>\n",
       "      <th>$f_0$ \\ expr. matemática</th>\n",
       "      <td>$\\sum_{f=0}^{f_S/2} \\lvert X(f) \\rvert ^2$</td>\n",
       "      <td>$ \\lvert X(f_0) \\rvert ^2 $</td>\n",
       "      <td>$ \\mathop{arg\\ max}_f \\{\\lvert X(f) \\rvert ^2\\} $</td>\n",
       "    </tr>\n",
       "    <tr>\n",
       "      <th></th>\n",
       "      <td></td>\n",
       "      <td></td>\n",
       "      <td>$f \\in [0:f_S/2]$</td>\n",
       "    </tr>\n",
       "    <tr>\n",
       "      <th></th>\n",
       "      <td></td>\n",
       "      <td></td>\n",
       "      <td></td>\n",
       "    </tr>\n",
       "    <tr>\n",
       "      <th>predicción</th>\n",
       "      <td>250K</td>\n",
       "      <td>250K</td>\n",
       "      <td>9</td>\n",
       "    </tr>\n",
       "    <tr>\n",
       "      <th></th>\n",
       "      <td></td>\n",
       "      <td></td>\n",
       "      <td></td>\n",
       "    </tr>\n",
       "    <tr>\n",
       "      <th>simulación</th>\n",
       "      <td>250000</td>\n",
       "      <td>250000</td>\n",
       "      <td>9</td>\n",
       "    </tr>\n",
       "  </tbody>\n",
       "</table>"
      ],
      "text/plain": [
       "<IPython.core.display.HTML object>"
      ]
     },
     "execution_count": 12,
     "metadata": {},
     "output_type": "execute_result"
    }
   ],
   "source": [
    "#######################################\n",
    "# Tu simulación que genere resultados #\n",
    "#######################################\n",
    "import numpy as np\n",
    "import matplotlib.pylab as plt\n",
    "import scipy.integrate as integrate\n",
    "\n",
    "\n",
    "N  = 1000 # muestras\n",
    "fs = 1000 # Hz\n",
    "a0 = 1 # Volts\n",
    "p0 = 0 # radianes\n",
    "\n",
    "f0 = int(9*fs/N)\n",
    "\n",
    "\n",
    "df = fs/N\n",
    "\n",
    "tt = np.linspace (0,((N-1)*(1/fs)),N)\n",
    "\n",
    "ff = np.linspace(0, (N-1)*df, N)\n",
    "    \n",
    "signal = a0*np.sin(2*np.pi*f0*tt+p0)\n",
    "\n",
    "sp = np.fft.fft(signal)\n",
    "\n",
    "plt.plot(tt, signal)\n",
    "plt.show()\n",
    "plt.stem(np.absolute(sp)[0:500])\n",
    "plt.show()\n",
    "\n",
    "cuadrado = (np.absolute(sp)[0:500])**2\n",
    "energia = integrate.simps(cuadrado)\n",
    "\n",
    "cuadradof0 = (np.absolute(sp)[f0])**2\n",
    "\n",
    "\n",
    "asd = max(cuadrado)\n",
    "\n",
    "count = -1\n",
    "for x in cuadrado:\n",
    "    count = 1+count   \n",
    "    if x == asd:       \n",
    "        frec = count\n",
    "\n",
    "tus_resultados = [ ['$\\sum_{f=0}^{f_S/2} \\lvert X(f) \\rvert ^2$', '$ \\lvert X(f_0) \\rvert ^2 $', '$ \\mathop{arg\\ max}_f \\{\\lvert X(f) \\rvert ^2\\} $'], \n",
    "                   ['',                                     '',                           '$f \\in [0:f_S/2]$'], \n",
    "                  ['', '', ''], \n",
    "                  ['250K', '250K', '9'], # <-- completar acá\n",
    "                  ['', '', ''], \n",
    "                  [energia, cuadradof0, frec]  # <-- completar acá\n",
    "                 ]\n",
    "df = DataFrame(tus_resultados, columns=['Energía total', 'Energía en $f_0$', 'Máximo de Energía'],\n",
    "               index=['$f_0$ \\ expr. matemática', \n",
    "                      '', \n",
    "                      '', \n",
    "                      'predicción', \n",
    "                      '', \n",
    "                      'simulación'])\n",
    "HTML(df.to_html())\n"
   ]
  },
  {
   "cell_type": "markdown",
   "metadata": {},
   "source": [
    "<table width=\"80%\" cellpadding=\"7\" cellspacing=\"0\">\n",
    "\t<col width=\"50%\">\n",
    "\t<col width=\"50%\">\n",
    "\t<tbody>\n",
    "\t\t<tr valign=\"top\">\n",
    "\t\t\t<td width=\"267\" style=\"border-top: none; border-bottom: none; border-left: none; border-right: none; padding-top: 0cm; padding-bottom: 0cm; padding-left: 0.19cm; padding-right: 0cm\">\n",
    "\t\t\t\t<p style=\"margin-bottom: 0cm\"><span lang=\"es-AR\">**1 solo ciclo** de la misma senoidal\n",
    "\t\t\t\tde **energía normalizada** y frecuencia $f_0 = 9 \\cdot f_S/N$. </span></font>\n",
    "\t\t\t\t</p>\n",
    "\t\t\t</td>\n",
    "\t\t</tr>\n",
    "\t</tbody>\n",
    "</table>\n",
    "        "
   ]
  },
  {
   "cell_type": "code",
   "execution_count": 13,
   "metadata": {},
   "outputs": [
    {
     "data": {
      "image/png": "[encoded data removed]",
      "text/plain": [
       "<Figure size 432x288 with 1 Axes>"
      ]
     },
     "metadata": {},
     "output_type": "display_data"
    },
    {
     "data": {
      "image/png": "[encoded data removed]",
      "text/plain": [
       "<Figure size 432x288 with 1 Axes>"
      ]
     },
     "metadata": {},
     "output_type": "display_data"
    },
    {
     "data": {
      "text/html": [
       "<table border=\"1\" class=\"dataframe\">\n",
       "  <thead>\n",
       "    <tr style=\"text-align: right;\">\n",
       "      <th></th>\n",
       "      <th>Energía total</th>\n",
       "      <th>Energía en $f_0$</th>\n",
       "      <th>Máximo de Energía</th>\n",
       "    </tr>\n",
       "  </thead>\n",
       "  <tbody>\n",
       "    <tr>\n",
       "      <th>$f_0$ \\ expr. matemática</th>\n",
       "      <td>$\\sum_{f=0}^{f_S/2} \\lvert X(f) \\rvert ^2$</td>\n",
       "      <td>$ \\lvert X(f_0) \\rvert ^2 $</td>\n",
       "      <td>$ \\mathop{arg\\ max}_f \\{\\lvert X(f) \\rvert ^2\\} $</td>\n",
       "    </tr>\n",
       "    <tr>\n",
       "      <th></th>\n",
       "      <td></td>\n",
       "      <td></td>\n",
       "      <td>$f \\in [0:f_S/2]$</td>\n",
       "    </tr>\n",
       "    <tr>\n",
       "      <th></th>\n",
       "      <td></td>\n",
       "      <td></td>\n",
       "      <td></td>\n",
       "    </tr>\n",
       "    <tr>\n",
       "      <th>predicción</th>\n",
       "      <td>250K / 9</td>\n",
       "      <td>x &lt; 250K / 9</td>\n",
       "      <td>x &lt; 9</td>\n",
       "    </tr>\n",
       "    <tr>\n",
       "      <th></th>\n",
       "      <td></td>\n",
       "      <td></td>\n",
       "      <td></td>\n",
       "    </tr>\n",
       "    <tr>\n",
       "      <th>simulación</th>\n",
       "      <td>27790.2</td>\n",
       "      <td>3086.41</td>\n",
       "      <td>8</td>\n",
       "    </tr>\n",
       "  </tbody>\n",
       "</table>"
      ],
      "text/plain": [
       "<IPython.core.display.HTML object>"
      ]
     },
     "execution_count": 13,
     "metadata": {},
     "output_type": "execute_result"
    }
   ],
   "source": [
    "#######################################\n",
    "# Tu simulación que genere resultados #\n",
    "#######################################\n",
    "import numpy as np\n",
    "import matplotlib.pylab as plt\n",
    "import scipy.integrate as integrate\n",
    "\n",
    "\n",
    "N  = 1000 # muestras\n",
    "fs = 1000 # Hz\n",
    "a0 = 1 # Volts\n",
    "p0 = 0 # radianes\n",
    "\n",
    "f0 = int(9*fs/N)\n",
    "df = fs/N\n",
    "\n",
    "tt = np.linspace (0,((N-1)*(1/fs)),N)\n",
    "\n",
    "ff = np.linspace(0, (N-1)*df, N)\n",
    "\n",
    "signal = a0*np.sin(2*np.pi*f0*tt+p0)\n",
    "\n",
    "zeros = a0 * np.zeros(N)\n",
    "\n",
    "resultado0 = np.concatenate((signal[0:111], zeros[111:1000]), axis=None)\n",
    "\n",
    "sp0 = np.fft.fft(resultado0)\n",
    "\n",
    "plt.plot(tt, resultado0)\n",
    "plt.show()\n",
    "\n",
    "plt.stem(np.absolute(sp0)[0:500])\n",
    "plt.show()\n",
    "\n",
    "cuadrado0 = (np.absolute(sp0)[0:500])**2\n",
    "energia0 = integrate.simps(cuadrado0)\n",
    "\n",
    "cuadrado00 = (np.absolute(sp0)[f0])**2\n",
    "\n",
    "asd0 = max(cuadrado0)\n",
    "\n",
    "count0 = -1\n",
    "for x0 in cuadrado0:\n",
    "    count0 = 1+count0   \n",
    "    if x0 == asd0:       \n",
    "        frec0 = count0\n",
    "        \n",
    "        \n",
    "\n",
    "tus_resultados = [ ['$\\sum_{f=0}^{f_S/2} \\lvert X(f) \\rvert ^2$', '$ \\lvert X(f_0) \\rvert ^2 $', '$ \\mathop{arg\\ max}_f \\{\\lvert X(f) \\rvert ^2\\} $'], \n",
    "                   ['',                                     '',                           '$f \\in [0:f_S/2]$'], \n",
    "                  ['', '', ''], \n",
    "                  ['250K / 9', 'x < 250K / 9', 'x < 9'], # <-- completar acá\n",
    "                  ['', '', ''], \n",
    "                  [energia0, cuadrado00, frec0]  # <-- completar acá\n",
    "                 ]\n",
    "df = DataFrame(tus_resultados, columns=['Energía total', 'Energía en $f_0$', 'Máximo de Energía'],\n",
    "               index=['$f_0$ \\ expr. matemática', \n",
    "                      '', \n",
    "                      '', \n",
    "                      'predicción', \n",
    "                      '', \n",
    "                      'simulación'])\n",
    "HTML(df.to_html())\n"
   ]
  },
  {
   "cell_type": "markdown",
   "metadata": {},
   "source": [
    "Observe el resultado y compare sus resultados con el punto anterior. ¿Qué ha cambiado? ¿Cuánto vale la energía de un solo ciclo de senoidal respecto al caso anterior?"
   ]
  },
  {
   "cell_type": "markdown",
   "metadata": {},
   "source": [
    "<div class=\"alert alert-block alert-warning\">\n",
    "<b>Respuesta:</b> Al haber 1 solo ciclo en vez de 9, la energía total disminuye 9 veces.\n",
    "Luego de realizar la simulación, note que la energia en f0, equivale a 250K / (9*9)\n",
    "</div>"
   ]
  },
  {
   "cell_type": "markdown",
   "metadata": {},
   "source": [
    "<table width=\"80%\" cellpadding=\"7\" cellspacing=\"0\">\n",
    "\t<col width=\"50%\">\n",
    "\t<col width=\"50%\">\n",
    "\t<tbody>\n",
    "\t\t<tr valign=\"top\">\n",
    "\t\t\t<td width=\"267\" style=\"border-top: none; border-bottom: none; border-left: none; border-right: none; padding-top: 0cm; padding-bottom: 0cm; padding-left: 0.19cm; padding-right: 0cm\">\n",
    "\t\t\t\t<p style=\"margin-bottom: 0cm\"><span lang=\"es-AR\">1 solo ciclo de la misma senoidal\n",
    "\t\t\t\tde energía normalizada y frecuencia $f_0 = 9 \\cdot f_S/N$ **pero demorado un tiempo igual a dos ciclos**. </span></font>\n",
    "\t\t\t\t</p>\n",
    "\t\t\t</td>\n",
    "\t\t</tr>\n",
    "\t</tbody>\n",
    "</table>\n",
    "        "
   ]
  },
  {
   "cell_type": "code",
   "execution_count": 14,
   "metadata": {},
   "outputs": [
    {
     "data": {
      "image/png": "[encoded data removed]",
      "text/plain": [
       "<Figure size 432x288 with 1 Axes>"
      ]
     },
     "metadata": {},
     "output_type": "display_data"
    },
    {
     "data": {
      "image/png": "[encoded data removed]",
      "text/plain": [
       "<Figure size 432x288 with 1 Axes>"
      ]
     },
     "metadata": {},
     "output_type": "display_data"
    },
    {
     "data": {
      "text/html": [
       "<table border=\"1\" class=\"dataframe\">\n",
       "  <thead>\n",
       "    <tr style=\"text-align: right;\">\n",
       "      <th></th>\n",
       "      <th>Energía total</th>\n",
       "      <th>Energía en $f_0$</th>\n",
       "      <th>Máximo de Energía</th>\n",
       "    </tr>\n",
       "  </thead>\n",
       "  <tbody>\n",
       "    <tr>\n",
       "      <th>$f_0$ \\ expr. matemática</th>\n",
       "      <td>$\\sum_{f=0}^{f_S/2} \\lvert X(f) \\rvert ^2$</td>\n",
       "      <td>$ \\lvert X(f_0) \\rvert ^2 $</td>\n",
       "      <td>$ \\mathop{arg\\ max}_f \\{\\lvert X(f) \\rvert ^2\\} $</td>\n",
       "    </tr>\n",
       "    <tr>\n",
       "      <th></th>\n",
       "      <td></td>\n",
       "      <td></td>\n",
       "      <td>$f \\in [0:f_S/2]$</td>\n",
       "    </tr>\n",
       "    <tr>\n",
       "      <th></th>\n",
       "      <td></td>\n",
       "      <td></td>\n",
       "      <td></td>\n",
       "    </tr>\n",
       "    <tr>\n",
       "      <th>predicción</th>\n",
       "      <td>250K / 9</td>\n",
       "      <td>250K / (9*9)</td>\n",
       "      <td>x &lt; 9</td>\n",
       "    </tr>\n",
       "    <tr>\n",
       "      <th></th>\n",
       "      <td></td>\n",
       "      <td></td>\n",
       "      <td></td>\n",
       "    </tr>\n",
       "    <tr>\n",
       "      <th>simulación</th>\n",
       "      <td>27790.2</td>\n",
       "      <td>3086.4</td>\n",
       "      <td>8</td>\n",
       "    </tr>\n",
       "  </tbody>\n",
       "</table>"
      ],
      "text/plain": [
       "<IPython.core.display.HTML object>"
      ]
     },
     "execution_count": 14,
     "metadata": {},
     "output_type": "execute_result"
    }
   ],
   "source": [
    "#######################################\n",
    "# Tu simulación que genere resultados #\n",
    "#######################################\n",
    "import numpy as np\n",
    "import matplotlib.pylab as plt\n",
    "import scipy.integrate as integrate\n",
    "\n",
    "\n",
    "N  = 1000 # muestras\n",
    "fs = 1000 # Hz\n",
    "a0 = 1 # Volts\n",
    "p0 = 0 # radianes\n",
    "\n",
    "f0 = int(9*fs/N)\n",
    "\n",
    "df = fs/N\n",
    "\n",
    "tt = np.linspace (0,((N-1)*(1/fs)),N)\n",
    "\n",
    "ff = np.linspace(0, (N-1)*df, N)\n",
    "\n",
    "signal = a0*np.sin(2*np.pi*f0*tt+p0)\n",
    "zeros = a0 * np.zeros(N)\n",
    "\n",
    "resultado1 = np.concatenate((zeros[0:222], signal[222:333], zeros[333:1000]), axis=None)\n",
    "\n",
    "sp1 = np.fft.fft(resultado1)\n",
    "\n",
    "cuadrado1 = (np.absolute(sp1)[0:500])**2\n",
    "energia1 = integrate.simps(cuadrado1)\n",
    "\n",
    "cuadrado01 = (np.absolute(sp1)[f0])**2\n",
    "\n",
    "asd1 = max(cuadrado1)\n",
    "\n",
    "count1 = -1\n",
    "for x1 in cuadrado1:\n",
    "    count1 = 1+count1   \n",
    "    if x1 == asd1:       \n",
    "        frec1 = count1\n",
    "        \n",
    "plt.plot(tt, resultado1)\n",
    "plt.show()\n",
    "\n",
    "plt.stem(np.absolute(sp1)[0:500])\n",
    "plt.show()\n",
    "\n",
    "tus_resultados = [ ['$\\sum_{f=0}^{f_S/2} \\lvert X(f) \\rvert ^2$', '$ \\lvert X(f_0) \\rvert ^2 $', '$ \\mathop{arg\\ max}_f \\{\\lvert X(f) \\rvert ^2\\} $'], \n",
    "                   ['',                                     '',                           '$f \\in [0:f_S/2]$'], \n",
    "                  ['', '', ''], \n",
    "                  ['250K / 9', '250K / (9*9)', 'x < 9'], # <-- completar acá\n",
    "                  ['', '', ''], \n",
    "                  [energia1, cuadrado01, frec1]  # <-- completar acá\n",
    "                 ]\n",
    "df = DataFrame(tus_resultados, columns=['Energía total', 'Energía en $f_0$', 'Máximo de Energía'],\n",
    "               index=['$f_0$ \\ expr. matemática', \n",
    "                      '', \n",
    "                      '', \n",
    "                      'predicción', \n",
    "                      '', \n",
    "                      'simulación'])\n",
    "HTML(df.to_html())\n"
   ]
  },
  {
   "cell_type": "markdown",
   "metadata": {},
   "source": [
    "En este caso, ¿Qué ha cambiado respecto al anterior? ¿Cómo se manifiesta en el dominio frecuencial?"
   ]
  },
  {
   "cell_type": "markdown",
   "metadata": {},
   "source": [
    "<div class=\"alert alert-block alert-warning\">\n",
    "<b>Respuesta:</b> No se manifiestan cambios en los valores de energía al desplazar temporalmente la señal.\n",
    "</div>"
   ]
  },
  {
   "cell_type": "markdown",
   "metadata": {},
   "source": [
    "<table width=\"80%\" cellpadding=\"7\" cellspacing=\"0\">\n",
    "\t<col width=\"50%\">\n",
    "\t<col width=\"50%\">\n",
    "\t<tbody>\n",
    "\t\t<tr valign=\"top\">\n",
    "\t\t\t<td width=\"267\" style=\"border-top: none; border-bottom: none; border-left: none; border-right: none; padding-top: 0cm; padding-bottom: 0cm; padding-left: 0.19cm; padding-right: 0cm\">\n",
    "\t\t\t\t<p style=\"margin-bottom: 0cm\"><span lang=\"es-AR\">1 solo ciclo de la misma senoidal utilizada hasta ahora, y otro ciclo de idénticas características pero de $f_1 = 8 \\cdot f_S/N$ y demorado aproximadamente como se observa a la izquierda. </span></font>\n",
    "\t\t\t\t</p>\n",
    "\t\t\t</td>\n",
    "\t\t</tr>\n",
    "\t</tbody>\n",
    "</table>\n",
    "        "
   ]
  },
  {
   "cell_type": "code",
   "execution_count": 15,
   "metadata": {},
   "outputs": [
    {
     "data": {
      "image/png": "[encoded data removed]",
      "text/plain": [
       "<Figure size 432x288 with 1 Axes>"
      ]
     },
     "metadata": {},
     "output_type": "display_data"
    },
    {
     "data": {
      "image/png": "[encoded data removed]",
      "text/plain": [
       "<Figure size 432x288 with 1 Axes>"
      ]
     },
     "metadata": {},
     "output_type": "display_data"
    },
    {
     "data": {
      "text/html": [
       "<table border=\"1\" class=\"dataframe\">\n",
       "  <thead>\n",
       "    <tr style=\"text-align: right;\">\n",
       "      <th></th>\n",
       "      <th>Energía total</th>\n",
       "      <th>Energía en $f_0$</th>\n",
       "      <th>Máximo de Energía</th>\n",
       "    </tr>\n",
       "  </thead>\n",
       "  <tbody>\n",
       "    <tr>\n",
       "      <th>$f_0$ \\ expr. matemática</th>\n",
       "      <td>$\\sum_{f=0}^{f_S/2} \\lvert X(f) \\rvert ^2$</td>\n",
       "      <td>$ \\lvert X(f_0) \\rvert ^2 $</td>\n",
       "      <td>$ \\mathop{arg\\ max}_f \\{\\lvert X(f) \\rvert ^2\\} $</td>\n",
       "    </tr>\n",
       "    <tr>\n",
       "      <th></th>\n",
       "      <td></td>\n",
       "      <td></td>\n",
       "      <td>$f \\in [0:f_S/2]$</td>\n",
       "    </tr>\n",
       "    <tr>\n",
       "      <th></th>\n",
       "      <td></td>\n",
       "      <td></td>\n",
       "      <td></td>\n",
       "    </tr>\n",
       "    <tr>\n",
       "      <th>predicción</th>\n",
       "      <td>250K / 9 + 250K / 8</td>\n",
       "      <td>-</td>\n",
       "      <td>8 o 9</td>\n",
       "    </tr>\n",
       "    <tr>\n",
       "      <th></th>\n",
       "      <td></td>\n",
       "      <td></td>\n",
       "      <td></td>\n",
       "    </tr>\n",
       "    <tr>\n",
       "      <th>simulación</th>\n",
       "      <td>59036.9</td>\n",
       "      <td>487.84</td>\n",
       "      <td>8</td>\n",
       "    </tr>\n",
       "  </tbody>\n",
       "</table>"
      ],
      "text/plain": [
       "<IPython.core.display.HTML object>"
      ]
     },
     "execution_count": 15,
     "metadata": {},
     "output_type": "execute_result"
    }
   ],
   "source": [
    "#######################################\n",
    "# Tu simulación que genere resultados #\n",
    "#######################################\n",
    "import numpy as np\n",
    "import matplotlib.pylab as plt\n",
    "import scipy.integrate as integrate\n",
    "\n",
    "\n",
    "N  = 1000 # muestras\n",
    "fs = 1000 # Hz\n",
    "a0 = 1 # Volts\n",
    "p0 = 0 # radianes\n",
    "\n",
    "f0 = int(9*fs/N)\n",
    "f1 = int(8*fs/N)\n",
    "\n",
    "df = fs/N\n",
    "\n",
    "tt = np.linspace (0,((N-1)*(1/fs)),N)\n",
    "\n",
    "ff = np.linspace(0, (N-1)*df, N)\n",
    "\n",
    "signal = a0*np.sin(2*np.pi*f0*tt+p0)\n",
    "signal1 = a0*np.sin(2*np.pi*f1*tt+p0)\n",
    "zeros = a0 * np.zeros(N)\n",
    "\n",
    "resultado2A = np.concatenate((zeros[0:375], signal1[375:500], zeros[500:1000]), axis=None)\n",
    "resultado2B = np.concatenate((signal[0:111], zeros[111:1000]), axis=None)\n",
    "\n",
    "resultado2 = resultado2A + resultado2B\n",
    "\n",
    "sp2 = np.fft.fft(resultado2)\n",
    "\n",
    "cuadrado2 = (np.absolute(sp2)[0:500])**2\n",
    "energia2 = integrate.simps(cuadrado2)\n",
    "\n",
    "cuadrado02 = (np.absolute(sp2)[f0])**2\n",
    "\n",
    "asd2 = max(cuadrado2)\n",
    "\n",
    "\n",
    "count2 = -1\n",
    "for x2 in cuadrado2:\n",
    "    count2 = 1+count2  \n",
    "    if x2 == asd2:       \n",
    "        frec2 = count2\n",
    "        \n",
    "plt.plot(tt, resultado2)\n",
    "plt.show()\n",
    "\n",
    "plt.stem(np.absolute(sp2)[0:500])\n",
    "plt.show()\n",
    "        \n",
    "\n",
    "tus_resultados = [ ['$\\sum_{f=0}^{f_S/2} \\lvert X(f) \\rvert ^2$', '$ \\lvert X(f_0) \\rvert ^2 $', '$ \\mathop{arg\\ max}_f \\{\\lvert X(f) \\rvert ^2\\} $'], \n",
    "                   ['',                                     '',                           '$f \\in [0:f_S/2]$'], \n",
    "                  ['', '', ''], \n",
    "                  ['250K / 9 + 250K / 8', '-', '8 o 9'], # <-- completar acá\n",
    "                  ['', '', ''], \n",
    "                  [energia2, cuadrado02, frec2]  # <-- completar acá\n",
    "                 ]\n",
    "df = DataFrame(tus_resultados, columns=['Energía total', 'Energía en $f_0$', 'Máximo de Energía'],\n",
    "               index=['$f_0$ \\ expr. matemática', \n",
    "                      '', \n",
    "                      '', \n",
    "                      'predicción', \n",
    "                      '', \n",
    "                      'simulación'])\n",
    "HTML(df.to_html())\n"
   ]
  },
  {
   "cell_type": "markdown",
   "metadata": {},
   "source": [
    "¿Puede localizar ambas componentes en este espectro? ¿Cómo lo haría?"
   ]
  },
  {
   "cell_type": "markdown",
   "metadata": {},
   "source": [
    "<div class=\"alert alert-block alert-warning\">\n",
    "<b>Respuesta:</b> Escriba aquí su respuesta.\n",
    "</div>"
   ]
  },
  {
   "cell_type": "markdown",
   "metadata": {},
   "source": [
    "<table width=\"80%\" cellpadding=\"7\" cellspacing=\"0\">\n",
    "\t<col width=\"50%\">\n",
    "\t<col width=\"50%\">\n",
    "\t<tbody>\n",
    "\t\t<tr valign=\"top\">\n",
    "\t\t\t<td width=\"267\" style=\"border-top: none; border-bottom: none; border-left: none; border-right: none; padding-top: 0cm; padding-bottom: 0cm; padding-left: 0.19cm; padding-right: 0cm\">\n",
    "\t\t\t\t<p style=\"margin-bottom: 0cm\"><span lang=\"es-AR\">Idéntico al caso anterior salvo que se invierte la ocurrencia de las señales. </span></font>\n",
    "\t\t\t\t</p>\n",
    "\t\t\t</td>\n",
    "\t\t</tr>\n",
    "\t</tbody>\n",
    "</table>\n",
    "        "
   ]
  },
  {
   "cell_type": "code",
   "execution_count": 16,
   "metadata": {},
   "outputs": [
    {
     "data": {
      "image/png": "[encoded data removed]",
      "text/plain": [
       "<Figure size 432x288 with 1 Axes>"
      ]
     },
     "metadata": {},
     "output_type": "display_data"
    },
    {
     "data": {
      "image/png": "[encoded data removed]",
      "text/plain": [
       "<Figure size 432x288 with 1 Axes>"
      ]
     },
     "metadata": {},
     "output_type": "display_data"
    },
    {
     "data": {
      "text/html": [
       "<table border=\"1\" class=\"dataframe\">\n",
       "  <thead>\n",
       "    <tr style=\"text-align: right;\">\n",
       "      <th></th>\n",
       "      <th>Energía total</th>\n",
       "      <th>Energía en $f_0$</th>\n",
       "      <th>Máximo de Energía</th>\n",
       "    </tr>\n",
       "  </thead>\n",
       "  <tbody>\n",
       "    <tr>\n",
       "      <th>$f_0$ \\ expr. matemática</th>\n",
       "      <td>$\\sum_{f=0}^{f_S/2} \\lvert X(f) \\rvert ^2$</td>\n",
       "      <td>$ \\lvert X(f_0) \\rvert ^2 $</td>\n",
       "      <td>$ \\mathop{arg\\ max}_f \\{\\lvert X(f) \\rvert ^2\\} $</td>\n",
       "    </tr>\n",
       "    <tr>\n",
       "      <th></th>\n",
       "      <td></td>\n",
       "      <td></td>\n",
       "      <td>$f \\in [0:f_S/2]$</td>\n",
       "    </tr>\n",
       "    <tr>\n",
       "      <th></th>\n",
       "      <td></td>\n",
       "      <td></td>\n",
       "      <td></td>\n",
       "    </tr>\n",
       "    <tr>\n",
       "      <th>predicción</th>\n",
       "      <td>250K / 9 + 250K / 8</td>\n",
       "      <td>-</td>\n",
       "      <td>8 o 9</td>\n",
       "    </tr>\n",
       "    <tr>\n",
       "      <th></th>\n",
       "      <td></td>\n",
       "      <td></td>\n",
       "      <td></td>\n",
       "    </tr>\n",
       "    <tr>\n",
       "      <th>simulación</th>\n",
       "      <td>59045.5</td>\n",
       "      <td>12257.2</td>\n",
       "      <td>6</td>\n",
       "    </tr>\n",
       "  </tbody>\n",
       "</table>"
      ],
      "text/plain": [
       "<IPython.core.display.HTML object>"
      ]
     },
     "execution_count": 16,
     "metadata": {},
     "output_type": "execute_result"
    }
   ],
   "source": [
    "#######################################\n",
    "# Tu simulación que genere resultados #\n",
    "#######################################\n",
    "import numpy as np\n",
    "import matplotlib.pylab as plt\n",
    "import scipy.integrate as integrate\n",
    "\n",
    "\n",
    "N  = 1000 # muestras\n",
    "fs = 1000 # Hz\n",
    "a0 = 1 # Volts\n",
    "p0 = 0 # radianes\n",
    "\n",
    "f0 = int(9*fs/N)\n",
    "f1 = int(8*fs/N)\n",
    "\n",
    "df = fs/N\n",
    "\n",
    "tt = np.linspace (0,((N-1)*(1/fs)),N)\n",
    "\n",
    "ff = np.linspace(0, (N-1)*df, N)\n",
    "\n",
    "signal = a0*np.sin(2*np.pi*f0*tt+p0)\n",
    "signal1 = a0*np.sin(2*np.pi*f1*tt+p0)\n",
    "zeros = a0 * np.zeros(N)\n",
    "\n",
    "resultado3A = np.concatenate((zeros[0:333], signal[333:444], zeros[444:1000]), axis=None)\n",
    "resultado3B = np.concatenate((signal1[0:125], zeros[125:1000]), axis=None)\n",
    "\n",
    "resultado3 = resultado3A + resultado3B\n",
    "\n",
    "sp3 = np.fft.fft(resultado3)\n",
    "\n",
    "cuadrado3 = (np.absolute(sp3)[0:500])**2\n",
    "energia3 = integrate.simps(cuadrado3)\n",
    "\n",
    "cuadrado03 = (np.absolute(sp3)[f0])**2\n",
    "\n",
    "asd3 = max(cuadrado3)\n",
    "\n",
    "count3 = -1\n",
    "for x3 in cuadrado3:\n",
    "    count3 = 1+count3  \n",
    "    if x3 == asd3:       \n",
    "        frec3 = count3\n",
    "        \n",
    "plt.plot(tt, resultado3)\n",
    "plt.show()\n",
    "\n",
    "plt.stem(np.absolute(sp3)[0:500])\n",
    "plt.show()        \n",
    "\n",
    "tus_resultados = [ ['$\\sum_{f=0}^{f_S/2} \\lvert X(f) \\rvert ^2$', '$ \\lvert X(f_0) \\rvert ^2 $', '$ \\mathop{arg\\ max}_f \\{\\lvert X(f) \\rvert ^2\\} $'], \n",
    "                   ['',                                     '',                           '$f \\in [0:f_S/2]$'], \n",
    "                  ['', '', ''], \n",
    "                  ['250K / 9 + 250K / 8', '-', '8 o 9'], # <-- completar acá\n",
    "                  ['', '', ''], \n",
    "                  [energia3, cuadrado03, frec3]  # <-- completar acá\n",
    "                 ]\n",
    "df = DataFrame(tus_resultados, columns=['Energía total', 'Energía en $f_0$', 'Máximo de Energía'],\n",
    "               index=['$f_0$ \\ expr. matemática', \n",
    "                      '', \n",
    "                      '', \n",
    "                      'predicción', \n",
    "                      '', \n",
    "                      'simulación'])\n",
    "HTML(df.to_html())\n"
   ]
  },
  {
   "cell_type": "markdown",
   "metadata": {},
   "source": [
    "¿ha cambiado el espectro respecto al caso anterior? ¿Si solo dispone del espectro, puede decir cuál ha ocurrido antes? ¿Resulta útil el análisis de espectral mediante la transformada de Fourier en este caso?"
   ]
  },
  {
   "cell_type": "markdown",
   "metadata": {},
   "source": [
    "<div class=\"alert alert-block alert-warning\">\n",
    "<b>Respuesta:</b> Mientras que la energía total se mantiene, se produce una variación en la energía de f0 asi como también en la frecuencia donde se produce el máximo, el cual cambio de los 8hz a los 6hz.\n",
    "</div>"
   ]
  },
  {
   "cell_type": "markdown",
   "metadata": {},
   "source": [
    "<table width=\"80%\" cellpadding=\"7\" cellspacing=\"0\">\n",
    "\t<col width=\"50%\">\n",
    "\t<col width=\"50%\">\n",
    "\t<tbody>\n",
    "\t\t<tr valign=\"top\">\n",
    "\t\t\t<td width=\"267\" style=\"border-top: none; border-bottom: none; border-left: none; border-right: none; padding-top: 0cm; padding-bottom: 0cm; padding-left: 0.19cm; padding-right: 0cm\">\n",
    "\t\t\t\t<p style=\"margin-bottom: 0cm\"><span lang=\"es-AR\">Arme una señal como la que se muestra a la izquierda, concatenando 3 ciclos de $f_0 = 9 \\cdot f_S/N$.</span></font>\n",
    "\t\t\t\t</p>\n",
    "\t\t\t</td>\n",
    "\t\t</tr>\n",
    "\t</tbody>\n",
    "</table>\n",
    "        "
   ]
  },
  {
   "cell_type": "code",
   "execution_count": 17,
   "metadata": {},
   "outputs": [
    {
     "data": {
      "image/png": "[encoded data removed]",
      "text/plain": [
       "<Figure size 432x288 with 1 Axes>"
      ]
     },
     "metadata": {},
     "output_type": "display_data"
    },
    {
     "data": {
      "image/png": "[encoded data removed]",
      "text/plain": [
       "<Figure size 432x288 with 1 Axes>"
      ]
     },
     "metadata": {},
     "output_type": "display_data"
    },
    {
     "data": {
      "text/html": [
       "<table border=\"1\" class=\"dataframe\">\n",
       "  <thead>\n",
       "    <tr style=\"text-align: right;\">\n",
       "      <th></th>\n",
       "      <th>Energía total</th>\n",
       "      <th>Energía en $f_0$</th>\n",
       "      <th>Máximo de Energía</th>\n",
       "    </tr>\n",
       "  </thead>\n",
       "  <tbody>\n",
       "    <tr>\n",
       "      <th>$f_0$ \\ expr. matemática</th>\n",
       "      <td>$\\sum_{f=0}^{f_S/2} \\lvert X(f) \\rvert ^2$</td>\n",
       "      <td>$ \\lvert X(f_0) \\rvert ^2 $</td>\n",
       "      <td>$ \\mathop{arg\\ max}_f \\{\\lvert X(f) \\rvert ^2\\} $</td>\n",
       "    </tr>\n",
       "    <tr>\n",
       "      <th></th>\n",
       "      <td></td>\n",
       "      <td></td>\n",
       "      <td>$f \\in [0:f_S/2]$</td>\n",
       "    </tr>\n",
       "    <tr>\n",
       "      <th></th>\n",
       "      <td></td>\n",
       "      <td></td>\n",
       "      <td></td>\n",
       "    </tr>\n",
       "    <tr>\n",
       "      <th>predicción</th>\n",
       "      <td>250K / 3</td>\n",
       "      <td>250K / (3*3)</td>\n",
       "      <td>9</td>\n",
       "    </tr>\n",
       "    <tr>\n",
       "      <th></th>\n",
       "      <td></td>\n",
       "      <td></td>\n",
       "      <td></td>\n",
       "    </tr>\n",
       "    <tr>\n",
       "      <th>simulación</th>\n",
       "      <td>83413.2</td>\n",
       "      <td>27777.6</td>\n",
       "      <td>9</td>\n",
       "    </tr>\n",
       "  </tbody>\n",
       "</table>"
      ],
      "text/plain": [
       "<IPython.core.display.HTML object>"
      ]
     },
     "execution_count": 17,
     "metadata": {},
     "output_type": "execute_result"
    }
   ],
   "source": [
    "#######################################\n",
    "# Tu simulación que genere resultados #\n",
    "#######################################\n",
    "import numpy as np\n",
    "import matplotlib.pylab as plt\n",
    "import scipy.integrate as integrate\n",
    "\n",
    "\n",
    "N  = 1000 # muestras\n",
    "fs = 1000 # Hz\n",
    "a0 = 1 # Volts\n",
    "p0 = 0 # radianes\n",
    "\n",
    "f0 = int(9*fs/N)\n",
    "\n",
    "df = fs/N\n",
    "\n",
    "tt = np.linspace (0,((N-1)*(1/fs)),N)\n",
    "\n",
    "ff = np.linspace(0, (N-1)*df, N)\n",
    "\n",
    "signal = a0*np.sin(2*np.pi*f0*tt+p0)\n",
    "zeros = a0 * np.zeros(N)\n",
    "\n",
    "resultado4 = np.concatenate((signal[0:333], zeros[333:1000]), axis=None)\n",
    "\n",
    "sp4 = np.fft.fft(resultado4)\n",
    "\n",
    "cuadrado4 = (np.absolute(sp4)[0:500])**2\n",
    "energia4 = integrate.simps(cuadrado4)\n",
    "\n",
    "cuadrado04 = (np.absolute(sp4)[f0])**2\n",
    "\n",
    "asd4 = max(cuadrado4)\n",
    "\n",
    "\n",
    "count4 = -1\n",
    "for x4 in cuadrado4:\n",
    "    count4 = 1+count4   \n",
    "    if x4 == asd4:       \n",
    "        frec4 = count4\n",
    "        \n",
    "plt.plot(tt, resultado4)\n",
    "plt.show()\n",
    "\n",
    "plt.stem(np.absolute(sp4)[0:500])\n",
    "plt.show()\n",
    "\n",
    "tus_resultados = [ ['$\\sum_{f=0}^{f_S/2} \\lvert X(f) \\rvert ^2$', '$ \\lvert X(f_0) \\rvert ^2 $', '$ \\mathop{arg\\ max}_f \\{\\lvert X(f) \\rvert ^2\\} $'], \n",
    "                   ['',                                     '',                           '$f \\in [0:f_S/2]$'], \n",
    "                  ['', '', ''], \n",
    "                  ['250K / 3', '250K / (3*3)', '9'], # <-- completar acá\n",
    "                  ['', '', ''], \n",
    "                  [energia4, cuadrado04, frec4]  # <-- completar acá\n",
    "                 ]\n",
    "df = DataFrame(tus_resultados, columns=['Energía total', 'Energía en $f_0$', 'Máximo de Energía'],\n",
    "               index=['$f_0$ \\ expr. matemática', \n",
    "                      '', \n",
    "                      '', \n",
    "                      'predicción', \n",
    "                      '', \n",
    "                      'simulación'])\n",
    "HTML(df.to_html())\n"
   ]
  },
  {
   "cell_type": "markdown",
   "metadata": {},
   "source": [
    "¿Qué energía tiene la componente $f_0$ en el espectro en comparación con la señal donde los 9 ciclos estaban presentes? ¿Y respecto a la que solo había 1 ciclo?"
   ]
  },
  {
   "cell_type": "markdown",
   "metadata": {},
   "source": [
    "<div class=\"alert alert-block alert-warning\">\n",
    "<b>Respuesta:</b> Respecto a la señal donde se encontraban los 9 ciclos, f0 posee una energía 9 veces menor (3^2), mientras que respecto a la de 1 ciclo, es 9 veces mayor.\n",
    "</div>"
   ]
  },
  {
   "cell_type": "markdown",
   "metadata": {},
   "source": [
    "<table width=\"80%\" cellpadding=\"7\" cellspacing=\"0\">\n",
    "\t<col width=\"50%\">\n",
    "\t<col width=\"50%\">\n",
    "\t<tbody>\n",
    "\t\t<tr valign=\"top\">\n",
    "\t\t\t<td width=\"267\" style=\"border-top: none; border-bottom: none; border-left: none; border-right: none; padding-top: 0cm; padding-bottom: 0cm; padding-left: 0.19cm; padding-right: 0cm\">\n",
    "\t\t\t\t<p style=\"margin-bottom: 0cm\"><span lang=\"es-AR\">Idem anterior, pero cada ciclo con diferente amplitud.</span></font>\n",
    "\t\t\t\t</p>\n",
    "\t\t\t</td>\n",
    "\t\t</tr>\n",
    "\t</tbody>\n",
    "</table>\n",
    "        "
   ]
  },
  {
   "cell_type": "code",
   "execution_count": 18,
   "metadata": {},
   "outputs": [
    {
     "data": {
      "image/png": "[encoded data removed]",
      "text/plain": [
       "<Figure size 432x288 with 1 Axes>"
      ]
     },
     "metadata": {},
     "output_type": "display_data"
    },
    {
     "data": {
      "image/png": "[encoded data removed]",
      "text/plain": [
       "<Figure size 432x288 with 1 Axes>"
      ]
     },
     "metadata": {},
     "output_type": "display_data"
    },
    {
     "data": {
      "text/html": [
       "<table border=\"1\" class=\"dataframe\">\n",
       "  <thead>\n",
       "    <tr style=\"text-align: right;\">\n",
       "      <th></th>\n",
       "      <th>Energía total</th>\n",
       "      <th>Energía en $f_0$</th>\n",
       "      <th>Máximo de Energía</th>\n",
       "    </tr>\n",
       "  </thead>\n",
       "  <tbody>\n",
       "    <tr>\n",
       "      <th>$f_0$ \\ expr. matemática</th>\n",
       "      <td>$\\sum_{f=0}^{f_S/2} \\lvert X(f) \\rvert ^2$</td>\n",
       "      <td>$ \\lvert X(f_0) \\rvert ^2 $</td>\n",
       "      <td>$ \\mathop{arg\\ max}_f \\{\\lvert X(f) \\rvert ^2\\} $</td>\n",
       "    </tr>\n",
       "    <tr>\n",
       "      <th></th>\n",
       "      <td></td>\n",
       "      <td></td>\n",
       "      <td>$f \\in [0:f_S/2]$</td>\n",
       "    </tr>\n",
       "    <tr>\n",
       "      <th></th>\n",
       "      <td></td>\n",
       "      <td></td>\n",
       "      <td></td>\n",
       "    </tr>\n",
       "    <tr>\n",
       "      <th>predicción</th>\n",
       "      <td>Sum {[250K*(Ax^2)] / 9}</td>\n",
       "      <td>-</td>\n",
       "      <td>9</td>\n",
       "    </tr>\n",
       "    <tr>\n",
       "      <th></th>\n",
       "      <td></td>\n",
       "      <td></td>\n",
       "      <td></td>\n",
       "    </tr>\n",
       "    <tr>\n",
       "      <th>simulación</th>\n",
       "      <td>35863.2</td>\n",
       "      <td>8919.71</td>\n",
       "      <td>9</td>\n",
       "    </tr>\n",
       "  </tbody>\n",
       "</table>"
      ],
      "text/plain": [
       "<IPython.core.display.HTML object>"
      ]
     },
     "execution_count": 18,
     "metadata": {},
     "output_type": "execute_result"
    }
   ],
   "source": [
    "#######################################\n",
    "# Tu simulación que genere resultados #\n",
    "#######################################\n",
    "import numpy as np\n",
    "import matplotlib.pylab as plt\n",
    "import scipy.integrate as integrate\n",
    "\n",
    "\n",
    "N  = 1000 # muestras\n",
    "fs = 1000 # Hz\n",
    "a0 = 1 # Volts\n",
    "p0 = 0 # radianes\n",
    "\n",
    "f0 = int(9*fs/N)\n",
    "\n",
    "df = fs/N\n",
    "\n",
    "tt = np.linspace (0,((N-1)*(1/fs)),N)\n",
    "\n",
    "ff = np.linspace(0, (N-1)*df, N)\n",
    "\n",
    "signalA = (a0/5)*np.sin(2*np.pi*f0*tt+p0)\n",
    "signalB = a0*np.sin(2*np.pi*f0*tt+p0)\n",
    "signalC = (a0/2)*np.sin(2*np.pi*f0*tt+p0)\n",
    "zeros = a0 * np.zeros(N)\n",
    "\n",
    "resultado5 = np.concatenate((signalA[0:111],signalB[111:222],signalC[222:333], zeros[333:1000]), axis=None)\n",
    "\n",
    "sp5 = np.fft.fft(resultado5)\n",
    "\n",
    "cuadrado5 = (np.absolute(sp5)[0:500])**2\n",
    "energia5 = integrate.simps(cuadrado5)\n",
    "\n",
    "cuadrado05 = (np.absolute(sp5)[f0])**2\n",
    "\n",
    "asd5 = max(cuadrado5)\n",
    "\n",
    "count5 = -1\n",
    "for x5 in cuadrado5:\n",
    "    count5 = 1+count5   \n",
    "    if x5 == asd5:       \n",
    "        frec5 = count5\n",
    "        \n",
    "plt.plot(tt, resultado5)\n",
    "plt.show()\n",
    "\n",
    "plt.stem(np.absolute(sp5)[0:500])\n",
    "plt.show()\n",
    "\n",
    "tus_resultados = [ ['$\\sum_{f=0}^{f_S/2} \\lvert X(f) \\rvert ^2$', '$ \\lvert X(f_0) \\rvert ^2 $', '$ \\mathop{arg\\ max}_f \\{\\lvert X(f) \\rvert ^2\\} $'], \n",
    "                   ['',                                     '',                           '$f \\in [0:f_S/2]$'], \n",
    "                  ['', '', ''], \n",
    "                  ['Sum {[250K*(Ax^2)] / 9}', '-', '9'], # <-- completar acá\n",
    "                  ['', '', ''], \n",
    "                  [energia5, cuadrado05, frec5]  # <-- completar acá\n",
    "                 ]\n",
    "df = DataFrame(tus_resultados, columns=['Energía total', 'Energía en $f_0$', 'Máximo de Energía'],\n",
    "               index=['$f_0$ \\ expr. matemática', \n",
    "                      '', \n",
    "                      '', \n",
    "                      'predicción', \n",
    "                      '', \n",
    "                      'simulación'])\n",
    "HTML(df.to_html())\n"
   ]
  },
  {
   "cell_type": "markdown",
   "metadata": {},
   "source": [
    "¿Qué energía tiene la componente $f_0$ en el espectro en comparación con el inciso anterior?"
   ]
  },
  {
   "cell_type": "markdown",
   "metadata": {},
   "source": [
    "<div class=\"alert alert-block alert-warning\">\n",
    "<b>Respuesta:</b> En principio, la energía de f0 disminuyo bastante respecto al caso anterior, pero no pude encontrar una relación con sus amplitudes para explicar el porque dio este valor.\n",
    "La diferencia exacta entre ambos valores es de \"3.11\"\n",
    "</div>"
   ]
  },
  {
   "cell_type": "markdown",
   "metadata": {},
   "source": [
    "<table width=\"80%\" cellpadding=\"7\" cellspacing=\"0\">\n",
    "\t<col width=\"50%\">\n",
    "\t<col width=\"50%\">\n",
    "\t<tbody>\n",
    "\t\t<tr valign=\"top\">\n",
    "\t\t\t<td width=\"267\" style=\"border-top: none; border-bottom: none; border-left: none; border-right: none; padding-top: 0cm; padding-bottom: 0cm; padding-left: 0.19cm; padding-right: 0cm\">\n",
    "\t\t\t\t<p style=\"margin-bottom: 0cm\"><span lang=\"es-AR\">Idem anterior, pero repetida 3 veces.</span></font>\n",
    "\t\t\t\t</p>\n",
    "\t\t\t</td>\n",
    "\t\t</tr>\n",
    "\t</tbody>\n",
    "</table>\n",
    "        "
   ]
  },
  {
   "cell_type": "code",
   "execution_count": 19,
   "metadata": {},
   "outputs": [
    {
     "data": {
      "image/png": "[encoded data removed]",
      "text/plain": [
       "<Figure size 432x288 with 1 Axes>"
      ]
     },
     "metadata": {},
     "output_type": "display_data"
    },
    {
     "data": {
      "image/png": "[encoded data removed]",
      "text/plain": [
       "<Figure size 432x288 with 1 Axes>"
      ]
     },
     "metadata": {},
     "output_type": "display_data"
    },
    {
     "data": {
      "text/html": [
       "<table border=\"1\" class=\"dataframe\">\n",
       "  <thead>\n",
       "    <tr style=\"text-align: right;\">\n",
       "      <th></th>\n",
       "      <th>Energía total</th>\n",
       "      <th>Energía en $f_0$</th>\n",
       "      <th>Máximo de Energía</th>\n",
       "    </tr>\n",
       "  </thead>\n",
       "  <tbody>\n",
       "    <tr>\n",
       "      <th>$f_0$ \\ expr. matemática</th>\n",
       "      <td>$\\sum_{f=0}^{f_S/2} \\lvert X(f) \\rvert ^2$</td>\n",
       "      <td>$ \\lvert X(f_0) \\rvert ^2 $</td>\n",
       "      <td>$ \\mathop{arg\\ max}_f \\{\\lvert X(f) \\rvert ^2\\} $</td>\n",
       "    </tr>\n",
       "    <tr>\n",
       "      <th></th>\n",
       "      <td></td>\n",
       "      <td></td>\n",
       "      <td>$f \\in [0:f_S/2]$</td>\n",
       "    </tr>\n",
       "    <tr>\n",
       "      <th></th>\n",
       "      <td></td>\n",
       "      <td></td>\n",
       "      <td></td>\n",
       "    </tr>\n",
       "    <tr>\n",
       "      <th>predicción</th>\n",
       "      <td>Sum {[250K*(Ax^2)] / 3}</td>\n",
       "      <td>-</td>\n",
       "      <td>9</td>\n",
       "    </tr>\n",
       "    <tr>\n",
       "      <th></th>\n",
       "      <td></td>\n",
       "      <td></td>\n",
       "      <td></td>\n",
       "    </tr>\n",
       "    <tr>\n",
       "      <th>simulación</th>\n",
       "      <td>107500</td>\n",
       "      <td>80277.6</td>\n",
       "      <td>9</td>\n",
       "    </tr>\n",
       "  </tbody>\n",
       "</table>"
      ],
      "text/plain": [
       "<IPython.core.display.HTML object>"
      ]
     },
     "execution_count": 19,
     "metadata": {},
     "output_type": "execute_result"
    }
   ],
   "source": [
    "#######################################\n",
    "# Tu simulación que genere resultados #\n",
    "#######################################\n",
    "import numpy as np\n",
    "import matplotlib.pylab as plt\n",
    "import scipy.integrate as integrate\n",
    "\n",
    "\n",
    "N  = 1000 # muestras\n",
    "fs = 1000 # Hz\n",
    "a0 = 1 # Volts\n",
    "p0 = 0 # radianes\n",
    "\n",
    "f0 = int(9*fs/N)\n",
    "\n",
    "df = fs/N\n",
    "\n",
    "tt = np.linspace (0,((N-1)*(1/fs)),N)\n",
    "\n",
    "ff = np.linspace(0, (N-1)*df, N)\n",
    "    \n",
    "signalA = (a0/5)*np.sin(2*np.pi*f0*tt+p0)\n",
    "signalB = a0*np.sin(2*np.pi*f0*tt+p0)\n",
    "signalC = (a0/2)*np.sin(2*np.pi*f0*tt+p0)\n",
    "zeros = a0 * np.zeros(N)\n",
    "\n",
    "resultado6 = np.concatenate((signalA[0:111],signalB[111:222],signalC[222:333]\n",
    ",signalA[333:444],signalB[444:555],signalC[555:666]\n",
    ",signalA[666:777],signalB[777:888],signalC[888:1000]), axis=None)\n",
    "\n",
    "sp6 = np.fft.fft(resultado6)\n",
    "\n",
    "cuadrado6 = (np.absolute(sp6)[0:500])**2\n",
    "energia6 = integrate.simps(cuadrado6)\n",
    "\n",
    "cuadrado06 = (np.absolute(sp6)[f0])**2\n",
    "\n",
    "asd6 = max(cuadrado6)\n",
    "\n",
    "\n",
    "count6 = -1\n",
    "for x6 in cuadrado6:\n",
    "    count6 = 1+count6   \n",
    "    if x6 == asd6:       \n",
    "        frec6 = count6\n",
    "        \n",
    "plt.plot(tt, resultado6)\n",
    "plt.show()\n",
    "\n",
    "plt.stem(np.absolute(sp6)[0:500])\n",
    "plt.show()\n",
    "\n",
    "tus_resultados = [ ['$\\sum_{f=0}^{f_S/2} \\lvert X(f) \\rvert ^2$', '$ \\lvert X(f_0) \\rvert ^2 $', '$ \\mathop{arg\\ max}_f \\{\\lvert X(f) \\rvert ^2\\} $'], \n",
    "                   ['',                                     '',                           '$f \\in [0:f_S/2]$'], \n",
    "                  ['', '', ''], \n",
    "                  ['Sum {[250K*(Ax^2)] / 3}', '-', '9'], # <-- completar acá\n",
    "                  ['', '', ''], \n",
    "                  [energia6, cuadrado06, frec6]  # <-- completar acá\n",
    "                 ]\n",
    "df = DataFrame(tus_resultados, columns=['Energía total', 'Energía en $f_0$', 'Máximo de Energía'],\n",
    "               index=['$f_0$ \\ expr. matemática', \n",
    "                      '', \n",
    "                      '', \n",
    "                      'predicción', \n",
    "                      '', \n",
    "                      'simulación'])\n",
    "HTML(df.to_html())\n"
   ]
  },
  {
   "cell_type": "markdown",
   "metadata": {},
   "source": [
    "¿Qué energía tiene la componente $f_0$ en el espectro en comparación con el inciso anterior? ¿Y respecto al que estaban los 9 ciclos presentes pero con la misma amplitud?"
   ]
  },
  {
   "cell_type": "markdown",
   "metadata": {},
   "source": [
    "<div class=\"alert alert-block alert-warning\">\n",
    "<b>Respuesta:</b> La energia de f0 en este caso es 9 veces mayor que la del inciso anterior, mientras que comparado con la energia de f0 con los 9 ciclos de igual amplitud, es de \"3.11\" veces menor.\n",
    "Lo unico que puedo determinar es que este valor de proporción de \"3.11\" esta ligado a los valores de amplitud, pero sin poder establecer la relación matematica exacta.\n",
    "</div>"
   ]
  },
  {
   "cell_type": "markdown",
   "metadata": {},
   "source": [
    "<table width=\"80%\" cellpadding=\"7\" cellspacing=\"0\">\n",
    "\t<col width=\"50%\">\n",
    "\t<col width=\"50%\">\n",
    "\t<tbody>\n",
    "\t\t<tr valign=\"top\">\n",
    "\t\t\t<td width=\"267\" style=\"border-top: none; border-bottom: none; border-left: none; border-right: none; padding-top: 0cm; padding-bottom: 0cm; padding-left: 0.19cm; padding-right: 0cm\">\n",
    "\t\t\t\t<p style=\"margin-bottom: 0cm\"><span lang=\"es-AR\">En este caso genere un ciclo de $f_0 = 9 \\cdot f_S/N$, y seguido otro ciclo pero desfasado $\\pi$ radianes.</span></font>\n",
    "\t\t\t\t</p>\n",
    "\t\t\t</td>\n",
    "\t\t</tr>\n",
    "\t</tbody>\n",
    "</table>\n",
    "        "
   ]
  },
  {
   "cell_type": "code",
   "execution_count": 20,
   "metadata": {},
   "outputs": [
    {
     "data": {
      "image/png": "[encoded data removed]",
      "text/plain": [
       "<Figure size 432x288 with 1 Axes>"
      ]
     },
     "metadata": {},
     "output_type": "display_data"
    },
    {
     "data": {
      "image/png": "[encoded data removed]",
      "text/plain": [
       "<Figure size 432x288 with 1 Axes>"
      ]
     },
     "metadata": {},
     "output_type": "display_data"
    },
    {
     "data": {
      "text/html": [
       "<table border=\"1\" class=\"dataframe\">\n",
       "  <thead>\n",
       "    <tr style=\"text-align: right;\">\n",
       "      <th></th>\n",
       "      <th>Energía total</th>\n",
       "      <th>Energía en $f_0$</th>\n",
       "      <th>Máximo de Energía</th>\n",
       "    </tr>\n",
       "  </thead>\n",
       "  <tbody>\n",
       "    <tr>\n",
       "      <th>$f_0$ \\ expr. matemática</th>\n",
       "      <td>$\\sum_{f=0}^{f_S/2} \\lvert X(f) \\rvert ^2$</td>\n",
       "      <td>$ \\lvert X(f_0) \\rvert ^2 $</td>\n",
       "      <td>$ \\mathop{arg\\ max}_f \\{\\lvert X(f) \\rvert ^2\\} $</td>\n",
       "    </tr>\n",
       "    <tr>\n",
       "      <th></th>\n",
       "      <td></td>\n",
       "      <td></td>\n",
       "      <td>$f \\in [0:f_S/2]$</td>\n",
       "    </tr>\n",
       "    <tr>\n",
       "      <th></th>\n",
       "      <td></td>\n",
       "      <td></td>\n",
       "      <td></td>\n",
       "    </tr>\n",
       "    <tr>\n",
       "      <th>predicción</th>\n",
       "      <td>250K / (2/9)</td>\n",
       "      <td>Aprox 0</td>\n",
       "      <td>x != 9</td>\n",
       "    </tr>\n",
       "    <tr>\n",
       "      <th></th>\n",
       "      <td></td>\n",
       "      <td></td>\n",
       "      <td></td>\n",
       "    </tr>\n",
       "    <tr>\n",
       "      <th>simulación</th>\n",
       "      <td>55561.3</td>\n",
       "      <td>4.87895e-07</td>\n",
       "      <td>5</td>\n",
       "    </tr>\n",
       "  </tbody>\n",
       "</table>"
      ],
      "text/plain": [
       "<IPython.core.display.HTML object>"
      ]
     },
     "execution_count": 20,
     "metadata": {},
     "output_type": "execute_result"
    }
   ],
   "source": [
    "#######################################\n",
    "# Tu simulación que genere resultados #\n",
    "#######################################\n",
    "import numpy as np\n",
    "import matplotlib.pylab as plt\n",
    "import scipy.integrate as integrate\n",
    "\n",
    "\n",
    "N  = 1000 # muestras\n",
    "fs = 1000 # Hz\n",
    "a0 = 1 # Volts\n",
    "p0 = 0 # radianes\n",
    "\n",
    "f0 = int(9*fs/N)\n",
    "\n",
    "df = fs/N\n",
    "\n",
    "tt = np.linspace (0,((N-1)*(1/fs)),N)\n",
    "\n",
    "ff = np.linspace(0, (N-1)*df, N)\n",
    "\n",
    "signal = a0*np.sin(2*np.pi*f0*tt+p0)\n",
    "signal1 = a0*np.sin(2*np.pi*f0*tt+np.pi)\n",
    "\n",
    "zeros = a0 * np.zeros(N)\n",
    "\n",
    "resultado7 = np.concatenate((signal[0:111], signal1[111:222], zeros[222:1000]), axis=None)\n",
    "\n",
    "sp7 = np.fft.fft(resultado7)\n",
    "\n",
    "cuadrado7 = (np.absolute(sp7)[0:500])**2\n",
    "energia7 = integrate.simps(cuadrado7)\n",
    "\n",
    "cuadrado07 = (np.absolute(sp7)[f0])**2\n",
    "\n",
    "asd7 = max(cuadrado7)\n",
    "\n",
    "\n",
    "count7 = -1\n",
    "for x7 in cuadrado7:\n",
    "    count7 = 1+count7   \n",
    "    if x7 == asd7:       \n",
    "        frec7 = count7\n",
    "        \n",
    "plt.plot(tt, resultado7)\n",
    "plt.show()\n",
    "\n",
    "plt.stem(np.absolute(sp7)[0:500])\n",
    "plt.show()\n",
    "\n",
    "tus_resultados = [ ['$\\sum_{f=0}^{f_S/2} \\lvert X(f) \\rvert ^2$', '$ \\lvert X(f_0) \\rvert ^2 $', '$ \\mathop{arg\\ max}_f \\{\\lvert X(f) \\rvert ^2\\} $'], \n",
    "                   ['',                                     '',                           '$f \\in [0:f_S/2]$'], \n",
    "                  ['', '', ''], \n",
    "                  ['250K / (2/9)', 'Aprox 0', 'x != 9'], # <-- completar acá\n",
    "                  ['', '', ''], \n",
    "                  [energia7, cuadrado07, frec7]  # <-- completar acá\n",
    "                 ]\n",
    "df = DataFrame(tus_resultados, columns=['Energía total', 'Energía en $f_0$', 'Máximo de Energía'],\n",
    "               index=['$f_0$ \\ expr. matemática', \n",
    "                      '', \n",
    "                      '', \n",
    "                      'predicción', \n",
    "                      '', \n",
    "                      'simulación'])\n",
    "HTML(df.to_html())\n"
   ]
  },
  {
   "cell_type": "markdown",
   "metadata": {},
   "source": [
    "¿Qué energía tiene la componente $f_0$ en el espectro en comparación con el que estaba un solo ciclo presente?"
   ]
  },
  {
   "cell_type": "markdown",
   "metadata": {},
   "source": [
    "<div class=\"alert alert-block alert-warning\">\n",
    "<b>Respuesta:</b> Al meter un ciclo desfasado en pi, se logro disminuir notablemente la energía que aporta la frecuencia de 9hz\n",
    "</div>"
   ]
  },
  {
   "cell_type": "markdown",
   "metadata": {},
   "source": [
    "Luego de realizar la experimentación y observando los resultados obtenidos discuta si es fiable o no medir en el dominio de Fourier, por medio de la FFT los siguientes aspectos de una señal:\n",
    "\n",
    "    • Energía\n",
    "    • Contenido espectral\n",
    "    • Energía de un determinado ancho de banda o componente espectral\n",
    "    • Localización temporal de un determinado componente espectral."
   ]
  },
  {
   "cell_type": "markdown",
   "metadata": {},
   "source": [
    "<div class=\"alert alert-block alert-warning\">\n",
    "<b>Respuesta:</b> Luego de realizar los ejemplos mostrados anteriormente, llego a la conclusión de que es totalmente fiable si se quiere obtener la energía total o de un determinado ancho de la señal, o el contenido espectral.\n",
    "Sin embargo no resulta conveniente a la hora de obtener información temporal.\n",
    "</div>"
   ]
  },
  {
   "cell_type": "markdown",
   "metadata": {},
   "source": [
    "<div class=\"alert alert-block alert-info\">\n",
    "<b>5)</b> \n",
    "Simule el efecto de cuantizar una señal continua en el tiempo mediante un conversor analógico digital (ADC).\n",
    "</div>"
   ]
  },
  {
   "cell_type": "markdown",
   "metadata": {},
   "source": [
    "Para ello analice señales determinísticas, por ejemplo una senoidal de **energía normalizada** y frecuencia $f_0$, y otras que varíen de forma más aleatoria y por lo tanto, representativa de una señal real, por ejemplo añadiendo ruido. Es decir que la señal *real* simulada será \n",
    "\n",
    "$$s_R = s + n$$\n",
    "\n",
    "donde la señal $n$ debe tener una energía de $1/10$.\n",
    "           \n",
    "Puede simular una señal continua (aproximadamente para los fines prácticos), mediante una señal muestreada a una $f^1_S$ muy alta en comparación con las $f_S$  que quiere estudiar, y un tipo de dato de doble precisión (double o float de 64 bits). De esta manera se asegura una grilla de cuantización (en tiempo y amplitud) mucho más densa que la que se va a simular. Se pide cuantizar a palabras de 4, 8 y 16 bits, obteniendo\n",
    "\n",
    "$$ s_Q = \\mathop{Q}_i \\{s_R\\} \\quad i \\in (4, 8, 16) $$\n",
    "\n",
    "Siendo $\\mathop{Q}_i$ la función **no lineal** responsable de la cuantización a *i-* bits de la señal real $s_R$. Describa el ruido de cuantización \n",
    "\n",
    "$$ e = s_Q - s_R$$\n",
    "\n",
    "para las 3 situaciones antedichas siguiendo las siguientes consignas.\n",
    "     \n"
   ]
  },
  {
   "cell_type": "markdown",
   "metadata": {},
   "source": [
    "<div class=\"alert alert-block alert-info\">\n",
    "<b>5.a)</b> \n",
    "La señal temporal $e$ y su espectro $E$.\n",
    "</div>"
   ]
  },
  {
   "cell_type": "code",
   "execution_count": 21,
   "metadata": {},
   "outputs": [
    {
     "data": {
      "text/html": [
       "<table border=\"1\" class=\"dataframe\">\n",
       "  <thead>\n",
       "    <tr style=\"text-align: right;\">\n",
       "      <th></th>\n",
       "      <th>Energía total</th>\n",
       "      <th>Energía total Q</th>\n",
       "      <th>Energía total $e$</th>\n",
       "    </tr>\n",
       "  </thead>\n",
       "  <tbody>\n",
       "    <tr>\n",
       "      <th>$f_0$ \\ expr. matemática</th>\n",
       "      <td>$\\sum_{f=0}^{f_S/2} \\lvert S_R(f) \\rvert ^2$</td>\n",
       "      <td>$\\sum_{f=0}^{f_S/2} \\lvert S_Q(f) \\rvert ^2$</td>\n",
       "      <td>$\\sum_{f=0}^{f_S/2} \\lvert e(f) \\rvert ^2$</td>\n",
       "    </tr>\n",
       "    <tr>\n",
       "      <th></th>\n",
       "      <td></td>\n",
       "      <td></td>\n",
       "      <td></td>\n",
       "    </tr>\n",
       "    <tr>\n",
       "      <th>4 bits</th>\n",
       "      <td>32000</td>\n",
       "      <td>32469</td>\n",
       "      <td>84.0714</td>\n",
       "    </tr>\n",
       "    <tr>\n",
       "      <th>8 bits</th>\n",
       "      <td>8.192e+06</td>\n",
       "      <td>8.19279e+06</td>\n",
       "      <td>87.938</td>\n",
       "    </tr>\n",
       "    <tr>\n",
       "      <th>16 bits</th>\n",
       "      <td>5.36871e+11</td>\n",
       "      <td>5.3687e+11</td>\n",
       "      <td>83.6143</td>\n",
       "    </tr>\n",
       "  </tbody>\n",
       "</table>"
      ],
      "text/plain": [
       "<IPython.core.display.HTML object>"
      ]
     },
     "execution_count": 21,
     "metadata": {},
     "output_type": "execute_result"
    }
   ],
   "source": [
    "#######################################\n",
    "# Tu simulación que genere resultados #\n",
    "#######################################\n",
    "import numpy as np\n",
    "import matplotlib.pylab as plt\n",
    "import scipy.integrate as integrate\n",
    "import statistics as stats\n",
    "\n",
    "N  = 1000 # muestras\n",
    "fs = 1000 # Hz\n",
    "a0 = 1 # Volts\n",
    "p0 = 0 # radianes\n",
    "f0 = 1\n",
    "\n",
    "bits4 = 4\n",
    "bits8 = 8\n",
    "bits16 = 16\n",
    "\n",
    "df = fs/N\n",
    "\n",
    "tt = np.linspace (0,((N-1)*(1/fs)),N)\n",
    "\n",
    "ff = np.linspace(0, (N-1)*df, N)\n",
    "\n",
    "ruido = np.random.rand(N)\n",
    "\n",
    "signal4 = (2**(bits4-1))*a0*np.sin(2*np.pi*f0*tt+p0)\n",
    "\n",
    "signal8 = (2**(bits8-1))*a0*np.sin(2*np.pi*f0*tt+p0)\n",
    "\n",
    "signal16 = (2**(bits16-1))*a0*np.sin(2*np.pi*f0*tt+p0)\n",
    "\n",
    "\n",
    "señal4 = signal4 + ruido\n",
    "señal8 = signal8 + ruido\n",
    "señal16 = signal16 + ruido\n",
    "\n",
    "\n",
    "grillado4 = np.around(señal4)\n",
    "error4 = grillado4 - señal4\n",
    "\n",
    "grillado8 = np.around(señal8)\n",
    "error8 = grillado8 - señal8\n",
    "\n",
    "grillado16 = np.around(señal16)\n",
    "error16 = grillado16 - señal16\n",
    "\n",
    "sp1 = np.fft.fft(error4)\n",
    "sp2 = np.fft.fft(error8)\n",
    "sp3 = np.fft.fft(error16)\n",
    "\n",
    "cuadradoA1 = signal4**2\n",
    "cuadradoA2 = grillado4**2\n",
    "cuadradoA3 = error4**2\n",
    "\n",
    "cuadradoB1 = signal8**2\n",
    "cuadradoB2 = grillado8**2\n",
    "cuadradoB3 = error8**2\n",
    "\n",
    "cuadradoC1 = signal16**2\n",
    "cuadradoC2 = grillado16**2\n",
    "cuadradoC3 = error16**2\n",
    "\n",
    "energiaA1 = integrate.simps(cuadradoA1)\n",
    "energiaA2 = integrate.simps(cuadradoA2)\n",
    "energiaA3 = integrate.simps(cuadradoA3)\n",
    "\n",
    "energiaB1 = integrate.simps(cuadradoB1)\n",
    "energiaB2 = integrate.simps(cuadradoB2)\n",
    "energiaB3 = integrate.simps(cuadradoB3)\n",
    "\n",
    "energiaC1 = integrate.simps(cuadradoC1)\n",
    "energiaC2 = integrate.simps(cuadradoC2)\n",
    "energiaC3 = integrate.simps(cuadradoC3)\n",
    "\n",
    "tus_resultados = [ ['$\\sum_{f=0}^{f_S/2} \\lvert S_R(f) \\rvert ^2$', '$\\sum_{f=0}^{f_S/2} \\lvert S_Q(f) \\rvert ^2$', '$\\sum_{f=0}^{f_S/2} \\lvert e(f) \\rvert ^2$' ], \n",
    "                   ['',                                             '',                                             ''                              ], \n",
    "                   [energiaA1, energiaA2, energiaA3], # <-- completar acá\n",
    "                   [energiaB1, energiaB2, energiaB3], # <-- completar acá\n",
    "                   [energiaC1, energiaC2, energiaC3], # <-- completar acá\n",
    "                 ]\n",
    "df = DataFrame(tus_resultados, columns=['Energía total', 'Energía total Q', 'Energía total $e$'],\n",
    "               index=['$f_0$ \\ expr. matemática', \n",
    "                      '', \n",
    "                      '4 bits', \n",
    "                      '8 bits', \n",
    "                      '16 bits'\n",
    "                      ])\n",
    "HTML(df.to_html())\n"
   ]
  },
  {
   "cell_type": "markdown",
   "metadata": {},
   "source": [
    "<div class=\"alert alert-block alert-info\">\n",
    "<b>5.b)</b> El histograma de la señal $e_i$ para cada tamaño de palabra.\n",
    "</div>"
   ]
  },
  {
   "cell_type": "code",
   "execution_count": 22,
   "metadata": {},
   "outputs": [
    {
     "data": {
      "image/png": "[encoded data removed]",
      "text/plain": [
       "<Figure size 432x288 with 1 Axes>"
      ]
     },
     "metadata": {},
     "output_type": "display_data"
    },
    {
     "data": {
      "image/png": "[encoded data removed]",
      "text/plain": [
       "<Figure size 432x288 with 1 Axes>"
      ]
     },
     "metadata": {},
     "output_type": "display_data"
    },
    {
     "data": {
      "image/png": "[encoded data removed]",
      "text/plain": [
       "<Figure size 432x288 with 1 Axes>"
      ]
     },
     "metadata": {},
     "output_type": "display_data"
    }
   ],
   "source": [
    "#####################################\n",
    "# Tu simulación que genere gráficas #\n",
    "#####################################\n",
    "\n",
    "plt.hist(error4)\n",
    "plt.show()\n",
    "\n",
    "plt.hist(error8)\n",
    "plt.show()\n",
    "\n",
    "plt.hist(error16)\n",
    "plt.show()"
   ]
  },
  {
   "cell_type": "markdown",
   "metadata": {},
   "source": [
    "¿Qué información podemos obtener de esta forma de analizar la señal $e_i$?"
   ]
  },
  {
   "cell_type": "markdown",
   "metadata": {},
   "source": [
    "<div class=\"alert alert-block alert-warning\">\n",
    "<b>Respuesta:</b> Lo primero que nos muestra el histograma, es el rango de valores entre los que se encuentran comprendidos los datos (-0.5:0.5), lo cual demuestra el correcto funcionamiento, y por otro lado se ve que mientras mas valores se estudien, mas se denota una tendencia a la uniformidad.\n",
    "</div>"
   ]
  },
  {
   "cell_type": "markdown",
   "metadata": {},
   "source": [
    "<div class=\"alert alert-block alert-info\">\n",
    "<b>5.c)</b> Una descripción de la señal $e_i$, por medio del **valor medio**, su valor **RMS** y su energía **energía**\n",
    "</div>"
   ]
  },
  {
   "cell_type": "code",
   "execution_count": 23,
   "metadata": {},
   "outputs": [
    {
     "data": {
      "text/html": [
       "<table border=\"1\" class=\"dataframe\">\n",
       "  <thead>\n",
       "    <tr style=\"text-align: right;\">\n",
       "      <th></th>\n",
       "      <th>Valor medio</th>\n",
       "      <th>RMS</th>\n",
       "      <th>Energía</th>\n",
       "    </tr>\n",
       "  </thead>\n",
       "  <tbody>\n",
       "    <tr>\n",
       "      <th>4 bits</th>\n",
       "      <td>-0.032966</td>\n",
       "      <td>0.289951</td>\n",
       "      <td>84.071449</td>\n",
       "    </tr>\n",
       "    <tr>\n",
       "      <th>8 bits</th>\n",
       "      <td>-0.011365</td>\n",
       "      <td>0.296543</td>\n",
       "      <td>87.937977</td>\n",
       "    </tr>\n",
       "    <tr>\n",
       "      <th>16 bits</th>\n",
       "      <td>0.016024</td>\n",
       "      <td>0.289161</td>\n",
       "      <td>83.614279</td>\n",
       "    </tr>\n",
       "  </tbody>\n",
       "</table>"
      ],
      "text/plain": [
       "<IPython.core.display.HTML object>"
      ]
     },
     "execution_count": 23,
     "metadata": {},
     "output_type": "execute_result"
    }
   ],
   "source": [
    "#######################################\n",
    "# Tu simulación que genere resultados #\n",
    "#######################################\n",
    "Vm4  = stats.median(error4)\n",
    "Vm8  = stats.median(error8)\n",
    "Vm16 = stats.median(error16)\n",
    "\n",
    "rms4  = (energiaA3 / N)**(1/2)\n",
    "rms8  = (energiaB3 / N)**(1/2)\n",
    "rms16 = (energiaC3 / N)**(1/2)\n",
    "\n",
    "\n",
    "tus_resultados = [ \n",
    "                   [Vm4,  rms4,  energiaA3], # <-- completar acá\n",
    "                   [Vm8,  rms8,  energiaB3], # <-- completar acá\n",
    "                   [Vm16, rms16, energiaC3], # <-- completar acá\n",
    "                 ]\n",
    "df = DataFrame(tus_resultados, columns=['Valor medio', 'RMS', 'Energía'],\n",
    "               index=[\n",
    "                      '4 bits', \n",
    "                      '8 bits', \n",
    "                      '16 bits'\n",
    "                      ])\n",
    "HTML(df.to_html())\n"
   ]
  },
  {
   "cell_type": "markdown",
   "metadata": {},
   "source": [
    "<div class=\"alert alert-block alert-info\">\n",
    "<b>5.d)</b> Una descripción **estadística** de la señal $e_i$, por medio de su **media**, su **desvío estándard** y su energía **varianza**.\n",
    "</div>"
   ]
  },
  {
   "cell_type": "code",
   "execution_count": 24,
   "metadata": {},
   "outputs": [
    {
     "data": {
      "text/html": [
       "<table border=\"1\" class=\"dataframe\">\n",
       "  <thead>\n",
       "    <tr style=\"text-align: right;\">\n",
       "      <th></th>\n",
       "      <th>Media</th>\n",
       "      <th>Desvío estándard</th>\n",
       "      <th>Varianza</th>\n",
       "    </tr>\n",
       "  </thead>\n",
       "  <tbody>\n",
       "    <tr>\n",
       "      <th>4 bits</th>\n",
       "      <td>-0.032966</td>\n",
       "      <td>0.289406</td>\n",
       "      <td>0.083840</td>\n",
       "    </tr>\n",
       "    <tr>\n",
       "      <th>8 bits</th>\n",
       "      <td>-0.011365</td>\n",
       "      <td>0.296787</td>\n",
       "      <td>0.088171</td>\n",
       "    </tr>\n",
       "    <tr>\n",
       "      <th>16 bits</th>\n",
       "      <td>0.016024</td>\n",
       "      <td>0.288946</td>\n",
       "      <td>0.083573</td>\n",
       "    </tr>\n",
       "  </tbody>\n",
       "</table>"
      ],
      "text/plain": [
       "<IPython.core.display.HTML object>"
      ]
     },
     "execution_count": 24,
     "metadata": {},
     "output_type": "execute_result"
    }
   ],
   "source": [
    "#######################################\n",
    "# Tu simulación que genere resultados #\n",
    "#######################################\n",
    "De4  = stats.pstdev(error4)\n",
    "De8  = stats.pstdev(error8)\n",
    "De16 = stats.pstdev(error16)\n",
    "\n",
    "Va4  = stats.variance(error4)\n",
    "Va8  = stats.variance(error8)\n",
    "Va16 = stats.variance(error16)\n",
    "\n",
    "\n",
    "tus_resultados = [ \n",
    "                   [Vm4, De4, Va4], # <-- completar acá\n",
    "                   [Vm8, De8, Va8], # <-- completar acá\n",
    "                   [Vm16, De16, Va16], # <-- completar acá\n",
    "                 ]\n",
    "df = DataFrame(tus_resultados, columns=['Media', 'Desvío estándard', 'Varianza'],\n",
    "               index=[\n",
    "                      '4 bits', \n",
    "                      '8 bits', \n",
    "                      '16 bits'\n",
    "                      ])\n",
    "HTML(df.to_html())\n"
   ]
  },
  {
   "cell_type": "markdown",
   "metadata": {},
   "source": [
    "Discutir las similitudes y diferencias con los parámetros calculados en **c)** y **d)**. "
   ]
  },
  {
   "cell_type": "markdown",
   "metadata": {},
   "source": [
    "<div class=\"alert alert-block alert-warning\">\n",
    "<b>Respuesta:</b> Escriba aquí su respuesta.\n",
    "</div>"
   ]
  }
 ],
 "metadata": {
  "kernelspec": {
   "display_name": "Python 3",
   "language": "python",
   "name": "python3"
  },
  "language_info": {
   "codemirror_mode": {
    "name": "ipython",
    "version": 3
   },
   "file_extension": ".py",
   "mimetype": "text/x-python",
   "name": "python",
   "nbconvert_exporter": "python",
   "pygments_lexer": "ipython3",
   "version": "3.6.5"
  }
 },
 "nbformat": 4,
 "nbformat_minor": 2
}
