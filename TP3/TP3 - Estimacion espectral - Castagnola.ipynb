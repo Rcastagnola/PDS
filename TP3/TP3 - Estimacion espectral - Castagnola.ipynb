{
 "cells": [
  {
   "cell_type": "markdown",
   "metadata": {},
   "source": [
    "#### Procesamiento Digital de Señales\n",
    "\n",
    "# Trabajo Práctico 3\n",
    "#### Ramiro Castagnola\n",
    "\n",
    "***\n",
    "## Estimación espectral\n"
   ]
  },
  {
   "cell_type": "code",
   "execution_count": 1,
   "metadata": {
    "code_folding": []
   },
   "outputs": [],
   "source": [
    "## Inicialización del Notebook del TP3\n",
    "\n",
    "import numpy as np\n",
    "import matplotlib as mpl\n",
    "import matplotlib.pyplot as plt\n",
    "from pandas import DataFrame\n",
    "from IPython.display import HTML\n",
    "import scipy.signal as sig\n",
    "\n",
    "def Bartlett (N,x):\n",
    "    \n",
    "    ventana = sig.bartlett(N)\n",
    "    \n",
    "    salida = np.multiply(x,ventana)\n",
    "\n",
    "    return salida\n",
    "\n",
    "fs = 1000 # Hz\n",
    "\n",
    "# Insertar aquí el código para inicializar tu notebook\n",
    "########################################################\n"
   ]
  },
  {
   "cell_type": "markdown",
   "metadata": {},
   "source": [
    "<div class=\"alert alert-block alert-info\">\n",
    "<b>1)</b> Compruebe experimentalmente las propiedades de sesgo y varianza del periodograma.\n",
    "</div>"
   ]
  },
  {
   "cell_type": "markdown",
   "metadata": {},
   "source": [
    "<div class=\"alert alert-block alert-success\">\n",
    "<b>Ayuda:</b> Puede utilizar una señal aleatoria con valores normalmente distribuidos de media nula y varianza **NO** unitaria, es decir $ x \\sim \\mathcal{N}(\\mu=0,\\sigma^2=2)$\n",
    "\n",
    "</div>"
   ]
  },
  {
   "cell_type": "markdown",
   "metadata": {},
   "source": [
    "Es decir, que el periodograma es un estimador de la densidad de potencia espectral (Ver Hayes 8.2.2):\n",
    "\n",
    "$$ \\hat{P_P}(e^{\\frac{2\\pi·k·f_S}{N}}) = \\hat{P_P}(k) = \\frac{1}{N}· \\lvert X(k) \\rvert ^2  $$\n",
    "\n",
    " + **no sesgado asintóticamente** a medida que aumenta la ventana de registro N.\n",
    " + tiene varianza constante y **NO** depende de N."
   ]
  },
  {
   "cell_type": "code",
   "execution_count": 2,
   "metadata": {},
   "outputs": [],
   "source": [
    "# Simular para los siguientes tamaños de señal\n",
    "N1 = [10, 50, 100, 250, 500, 1000, 5000]\n",
    "variance1 = np.zeros(7)\n",
    "bias1 = np.zeros(7)\n",
    "\n",
    "for i in range (7):\n",
    "    \n",
    "    señalA = np.random.normal(0, 2, (N1[i]))\n",
    "    Estimador = np.absolute((np.fft.fft(señalA))**2)/N1[i]\n",
    "    variance1[i] = np.var(Estimador)\n",
    "    bias1[i] = np.mean(Estimador/(2*np.pi))\n",
    "\n",
    "##########################################\n",
    "# Acá podés generar los gráficos pedidos #\n",
    "##########################################\n"
   ]
  },
  {
   "cell_type": "code",
   "execution_count": 3,
   "metadata": {
    "scrolled": false
   },
   "outputs": [
    {
     "data": {
      "text/html": [
       "<table border=\"1\" class=\"dataframe\">\n",
       "  <thead>\n",
       "    <tr style=\"text-align: right;\">\n",
       "      <th></th>\n",
       "      <th>$s_P$</th>\n",
       "      <th>$v_P$</th>\n",
       "    </tr>\n",
       "  </thead>\n",
       "  <tbody>\n",
       "    <tr>\n",
       "      <th>10</th>\n",
       "      <td>0.594580</td>\n",
       "      <td>29.065279</td>\n",
       "    </tr>\n",
       "    <tr>\n",
       "      <th>50</th>\n",
       "      <td>0.740218</td>\n",
       "      <td>27.733053</td>\n",
       "    </tr>\n",
       "    <tr>\n",
       "      <th>100</th>\n",
       "      <td>0.636104</td>\n",
       "      <td>29.882520</td>\n",
       "    </tr>\n",
       "    <tr>\n",
       "      <th>250</th>\n",
       "      <td>0.647305</td>\n",
       "      <td>17.471461</td>\n",
       "    </tr>\n",
       "    <tr>\n",
       "      <th>500</th>\n",
       "      <td>0.617426</td>\n",
       "      <td>14.559487</td>\n",
       "    </tr>\n",
       "    <tr>\n",
       "      <th>1000</th>\n",
       "      <td>0.662132</td>\n",
       "      <td>17.679794</td>\n",
       "    </tr>\n",
       "    <tr>\n",
       "      <th>5000</th>\n",
       "      <td>0.653477</td>\n",
       "      <td>17.325513</td>\n",
       "    </tr>\n",
       "  </tbody>\n",
       "</table>"
      ],
      "text/plain": [
       "<IPython.core.display.HTML object>"
      ]
     },
     "execution_count": 3,
     "metadata": {},
     "output_type": "execute_result"
    }
   ],
   "source": [
    "#######################################\n",
    "# Tu simulación que genere resultados #\n",
    "#######################################\n",
    "\n",
    "tus_resultados = [ \n",
    "                   [bias1[0], variance1[0]], # <-- acá debería haber numeritos :)\n",
    "                   [bias1[1], variance1[1]], # <-- acá debería haber numeritos :)\n",
    "                   [bias1[2], variance1[2]], # <-- acá debería haber numeritos :)\n",
    "                   [bias1[3], variance1[3]], # <-- acá debería haber numeritos :)\n",
    "                   [bias1[4], variance1[4]], # <-- acá debería haber numeritos :)\n",
    "                   [bias1[5], variance1[5]], # <-- acá debería haber numeritos :)\n",
    "                   [bias1[6], variance1[6]], # <-- acá debería haber numeritos :)\n",
    "                 ]\n",
    "df = DataFrame(tus_resultados, columns=['$s_P$', '$v_P$'],\n",
    "               index=N1)\n",
    "HTML(df.to_html())\n"
   ]
  },
  {
   "cell_type": "markdown",
   "metadata": {},
   "source": [
    "<div class=\"alert alert-block alert-info\">\n",
    "<b>2)</b>     Compruebe del mismo modo los resultados de sesgo y varianza vistos en la teoría del método de Bartlett.\n",
    "\n",
    "</div>"
   ]
  },
  {
   "cell_type": "markdown",
   "metadata": {},
   "source": [
    "Es decir, que el periodograma de Bartlett es un estimador de la densidad de potencia espectral que promedia K bloques disjuntos de las N muestras de una señal $x$ (Ver Hayes 8.2.4):\n",
    "\n",
    "$$ \\hat{P_B}(k) = \\frac{1}{N}· \\sum^{K-1}_{i=0} \\lvert X(k) \\rvert ^2  $$\n",
    "\n",
    " + **no sesgado asintóticamente** a medida que aumenta la ventana de registro N.\n",
    " + tiene varianza que decrece asintóticamente a medida que aumenta K.\n",
    " + tiene una resolución espectral K veces menor"
   ]
  },
  {
   "cell_type": "code",
   "execution_count": 4,
   "metadata": {},
   "outputs": [],
   "source": [
    "# Simular para los siguientes tamaños de señal\n",
    "K2 = 10\n",
    "L2 = [10, 50, 100, 250, 500, 1000, 5000]\n",
    "\n",
    "variance2 = np.zeros(7)\n",
    "bias2 = np.zeros(7)\n",
    "\n",
    "for i2 in range (7):\n",
    "    \n",
    "    acumuladoB = np.zeros((L2[i2]))\n",
    "\n",
    "    for j in range(K2):\n",
    "    \n",
    "        señalB = np.random.normal(0,2,(L2[i2]))\n",
    "        actualB = np.absolute((np.fft.fft(señalB))**2)/L2[i2]\n",
    "        acumuladoB += actualB\n",
    "        señal2 = acumuladoB/K2\n",
    "        variance2[i2] = np.var(señal2)\n",
    "        bias2[i2] = np.mean(señal2/(2*np.pi))\n",
    "\n",
    "##########################################\n",
    "# Acá podés generar los gráficos pedidos #\n",
    "##########################################\n"
   ]
  },
  {
   "cell_type": "code",
   "execution_count": 5,
   "metadata": {
    "scrolled": false
   },
   "outputs": [
    {
     "data": {
      "text/html": [
       "<table border=\"1\" class=\"dataframe\">\n",
       "  <thead>\n",
       "    <tr style=\"text-align: right;\">\n",
       "      <th></th>\n",
       "      <th>$s_B$</th>\n",
       "      <th>$v_B$</th>\n",
       "    </tr>\n",
       "  </thead>\n",
       "  <tbody>\n",
       "    <tr>\n",
       "      <th>10</th>\n",
       "      <td>0.695316</td>\n",
       "      <td>2.227577</td>\n",
       "    </tr>\n",
       "    <tr>\n",
       "      <th>50</th>\n",
       "      <td>0.660796</td>\n",
       "      <td>1.642615</td>\n",
       "    </tr>\n",
       "    <tr>\n",
       "      <th>100</th>\n",
       "      <td>0.638078</td>\n",
       "      <td>1.618915</td>\n",
       "    </tr>\n",
       "    <tr>\n",
       "      <th>250</th>\n",
       "      <td>0.644162</td>\n",
       "      <td>1.696025</td>\n",
       "    </tr>\n",
       "    <tr>\n",
       "      <th>500</th>\n",
       "      <td>0.628239</td>\n",
       "      <td>1.531921</td>\n",
       "    </tr>\n",
       "    <tr>\n",
       "      <th>1000</th>\n",
       "      <td>0.646010</td>\n",
       "      <td>1.668444</td>\n",
       "    </tr>\n",
       "    <tr>\n",
       "      <th>5000</th>\n",
       "      <td>0.633103</td>\n",
       "      <td>1.587653</td>\n",
       "    </tr>\n",
       "  </tbody>\n",
       "</table>"
      ],
      "text/plain": [
       "<IPython.core.display.HTML object>"
      ]
     },
     "execution_count": 5,
     "metadata": {},
     "output_type": "execute_result"
    }
   ],
   "source": [
    "\n",
    "#######################################\n",
    "# Tu simulación que genere resultados #\n",
    "#######################################\n",
    "\n",
    "tus_resultados = [ \n",
    "                   [bias2[0], variance2[0]], # <-- acá debería haber numeritos :)\n",
    "                   [bias2[1], variance2[1]], # <-- acá debería haber numeritos :)\n",
    "                   [bias2[2], variance2[2]], # <-- acá debería haber numeritos :)\n",
    "                   [bias2[3], variance2[3]], # <-- acá debería haber numeritos :)\n",
    "                   [bias2[4], variance2[4]], # <-- acá debería haber numeritos :)\n",
    "                   [bias2[5], variance2[5]], # <-- acá debería haber numeritos :)\n",
    "                   [bias2[6], variance2[6]], # <-- acá debería haber numeritos :)\n",
    "                 ]\n",
    "df = DataFrame(tus_resultados, columns=['$s_B$', '$v_B$'],\n",
    "               index=L2)\n",
    "HTML(df.to_html())\n"
   ]
  },
  {
   "cell_type": "markdown",
   "metadata": {},
   "source": [
    "<div class=\"alert alert-block alert-info\">\n",
    "<b>3)</b>     Compruebe del mismo modo los resultados de sesgo y varianza vistos en la teoría del método de Welch.\n",
    "\n",
    "</div>"
   ]
  },
  {
   "cell_type": "markdown",
   "metadata": {},
   "source": [
    "Es decir, que el periodograma de Welch es un estimador de la densidad de potencia espectral que promedia K bloques ventaneados por $w(n)$, posiblemente solapados de las N muestras de una señal $x$ (Ver Hayes 8.2.5):\n",
    "\n",
    "$$ \\hat{P_W}(k) = \\frac{1}{K·L·U}· \\sum^{K-1}_{i=0} \\Bigg\\vert \\sum^{L-1}_{n=0}  x(n+i·D) · w(n) · e^{-j2\\pi·k·n·\\frac{f_S}{N}} \\Bigg\\vert^2   $$\n",
    "\n",
    " + **no sesgado asintóticamente** a medida que aumenta la ventana de registro N.\n",
    " + tiene varianza que decrece asintóticamente, a medida que se promedian más bloques de señal.\n",
    " + tiene una resolución espectral inversamente proporcional al tamaño del bloque."
   ]
  },
  {
   "cell_type": "code",
   "execution_count": 6,
   "metadata": {},
   "outputs": [],
   "source": [
    "# Simular para los siguientes tamaños de señal\n",
    "L3 = [10, 50, 100, 250, 500, 1000, 5000]\n",
    "K3 = 10\n",
    "S = 2\n",
    "\n",
    "variance3 = np.zeros(7)\n",
    "bias3 = np.zeros(7)\n",
    "\n",
    "for i3 in range (7):\n",
    "\n",
    "    R = int(L3[i3]/S)\n",
    "    acumuladoC = np.zeros((R))\n",
    "\n",
    "    bartlett2 = Bartlett(L3[i3],1)\n",
    "    U = sum(bartlett2**2)/L3[i3]\n",
    "\n",
    "    for j in range(K3):\n",
    "        for m in range(S):\n",
    "            señalC = np.random.normal(0,2,(L3[i3]))\n",
    "            bartlett1 = Bartlett(L3[i3]/S,señalC[R*m:R*m+R])\n",
    "            actualC = np.absolute((np.fft.fft(bartlett1))**2)\n",
    "            acumuladoC += actualC\n",
    "            señal3 = acumuladoC/(K3*U*L3[i3])\n",
    "            variance3[i3] = np.var(señal3)\n",
    "            bias3[i3] = np.mean(señal3/(2*np.pi*L3[i3]*U))\n",
    "\n",
    "##########################################\n",
    "# Acá podés generar los gráficos pedidos #\n",
    "##########################################\n"
   ]
  },
  {
   "cell_type": "code",
   "execution_count": 7,
   "metadata": {
    "scrolled": false
   },
   "outputs": [
    {
     "data": {
      "text/html": [
       "<table border=\"1\" class=\"dataframe\">\n",
       "  <thead>\n",
       "    <tr style=\"text-align: right;\">\n",
       "      <th></th>\n",
       "      <th>$s_W$</th>\n",
       "      <th>$v_W$</th>\n",
       "    </tr>\n",
       "  </thead>\n",
       "  <tbody>\n",
       "    <tr>\n",
       "      <th>10</th>\n",
       "      <td>0.152743</td>\n",
       "      <td>0.067834</td>\n",
       "    </tr>\n",
       "    <tr>\n",
       "      <th>50</th>\n",
       "      <td>0.040915</td>\n",
       "      <td>0.856313</td>\n",
       "    </tr>\n",
       "    <tr>\n",
       "      <th>100</th>\n",
       "      <td>0.018259</td>\n",
       "      <td>0.596847</td>\n",
       "    </tr>\n",
       "    <tr>\n",
       "      <th>250</th>\n",
       "      <td>0.008015</td>\n",
       "      <td>0.840274</td>\n",
       "    </tr>\n",
       "    <tr>\n",
       "      <th>500</th>\n",
       "      <td>0.003743</td>\n",
       "      <td>0.607395</td>\n",
       "    </tr>\n",
       "    <tr>\n",
       "      <th>1000</th>\n",
       "      <td>0.001972</td>\n",
       "      <td>0.925710</td>\n",
       "    </tr>\n",
       "    <tr>\n",
       "      <th>5000</th>\n",
       "      <td>0.000387</td>\n",
       "      <td>0.812021</td>\n",
       "    </tr>\n",
       "  </tbody>\n",
       "</table>"
      ],
      "text/plain": [
       "<IPython.core.display.HTML object>"
      ]
     },
     "execution_count": 7,
     "metadata": {},
     "output_type": "execute_result"
    }
   ],
   "source": [
    "\n",
    "#######################################\n",
    "# Tu simulación que genere resultados #\n",
    "#######################################\n",
    "\n",
    "tus_resultados = [ \n",
    "                   [bias3[0], variance3[0]], # <-- acá debería haber numeritos :)\n",
    "                   [bias3[1], variance3[1]], # <-- acá debería haber numeritos :)\n",
    "                   [bias3[2], variance3[2]], # <-- acá debería haber numeritos :)\n",
    "                   [bias3[3], variance3[3]], # <-- acá debería haber numeritos :)\n",
    "                   [bias3[4], variance3[4]], # <-- acá debería haber numeritos :)\n",
    "                   [bias3[5], variance3[5]], # <-- acá debería haber numeritos :)\n",
    "                   [bias3[6], variance3[6]], # <-- acá debería haber numeritos :)\n",
    "                 ]\n",
    "df = DataFrame(tus_resultados, columns=['$s_W$', '$v_W$'],\n",
    "               index=L3)\n",
    "HTML(df.to_html())\n"
   ]
  },
  {
   "cell_type": "markdown",
   "metadata": {},
   "source": [
    "<div class=\"alert alert-block alert-info\">\n",
    "<b>4)</b> Evalue el siguiente estimador de frecuencia de una senoidal contaminada por ruido incorrelado.\n",
    "\n",
    "</div>"
   ]
  },
  {
   "cell_type": "markdown",
   "metadata": {},
   "source": [
    "Para una señal $ x(k) = a_1 · \\mathop{sen}(\\Omega_1·k) + n(k)$\n",
    "\n",
    "siendo \n",
    "\n",
    "  $\\Omega_1 = \\Omega_0 + f_r·\\frac{2\\pi}{N} $\n",
    "\n",
    "  $\\Omega_0 = \\frac{\\pi}{2} $\n",
    "  \n",
    "y las variables aleatorias definidas por\n",
    "\n",
    "  $f_r \\sim \\mathcal{U}(-\\frac{1}{2}, \\, \\frac{1}{2}) $\n",
    "\n",
    "  $n \\sim \\mathcal{N}(0, \\, \\sigma ^2) $\n",
    "  \n",
    "Evalúe el siguiente estimador de $\\Omega_1$\n",
    "\n",
    "  $\\hat{\\Omega}_1^W = \\mathop{arg\\ max}_f \\{ \\hat{P_W} \\} $\n",
    "  \n",
    "basado en el periodograma de Welch evaluado en **3)**. Del mismo modo, evalúe otro estimador de la PSD para crear otro estimador de $\\Omega_1$\n",
    "\n",
    "  $\\hat{\\Omega}_1^X = \\mathop{arg\\ max}_f \\{ \\hat{P_X} \\} $\n",
    "\n",
    "Considere 200 realizaciones de 1000 muestras para cada experimento. Cada realización debe tener un SNR tal que el pico de la senoidal esté 3 y 10 db por encima del *piso* de ruido impuesto por $n(k)$.\n"
   ]
  },
  {
   "cell_type": "code",
   "execution_count": 8,
   "metadata": {},
   "outputs": [
    {
     "data": {
      "image/png": "[encoded data removed]",
      "text/plain": [
       "<Figure size 432x288 with 1 Axes>"
      ]
     },
     "metadata": {},
     "output_type": "display_data"
    },
    {
     "data": {
      "image/png": "[encoded data removed]",
      "text/plain": [
       "<Figure size 432x288 with 1 Axes>"
      ]
     },
     "metadata": {},
     "output_type": "display_data"
    }
   ],
   "source": [
    "# Simular para los siguientes tamaños de señal\n",
    "\n",
    "R = 200 # realizaciones\n",
    "\n",
    "N = 1000 # Muestras\n",
    "\n",
    "# Obtené los valores XX para que cumplas con el enunciado\n",
    "#SNR = np.array([ XX, XX ], dtype=np.float)\n",
    "\n",
    "##########################################\n",
    "# Acá podés generar los gráficos pedidos #\n",
    "##########################################\n",
    "import numpy as np\n",
    "import matplotlib.pylab as plt\n",
    "import scipy.integrate as integrate\n",
    "import scipy.signal as sig\n",
    "import spectrum as sp\n",
    "import warnings\n",
    "warnings.filterwarnings('ignore')\n",
    "\n",
    "fs = 1000\n",
    "\n",
    "tt = np.linspace (0,((N-1)*(1/fs)),N)\n",
    "\n",
    "Repeticiones = 200\n",
    "\n",
    "a3db = 0.20\n",
    "\n",
    "frecA = np.zeros(Repeticiones)\n",
    "Acumulado3dbA = np.zeros(1000)\n",
    "Acumulado3dbB = np.zeros(1000)\n",
    "\n",
    "for h in range(Repeticiones):\n",
    "        ruidoA = np.random.normal(0,2,N)\n",
    "        frA = np.random.uniform(-0.5, 0.5, 1)\n",
    "        O0A = 2*np.pi*(fs/4)\n",
    "        O1A = O0A + frA*2*np.pi\n",
    "        senoidalA = a3db*np.sin(O1A*tt) \n",
    "        señalA = senoidalA + ruidoA\n",
    "        \n",
    "        Sen3db = np.absolute(np.fft.fft(senoidalA))\n",
    "        \n",
    "        Rui3db = np.absolute(np.fft.fft(ruidoA))\n",
    "        \n",
    "        _, PxxSeñalA = sig.welch(señalA, fs=fs, nfft=N, window='bartlett', nperseg=int(np.round(N/3)) )        \n",
    "        \n",
    "        MaxfrecA = max(PxxSeñalA)\n",
    "        countA = -1\n",
    "        for x in PxxSeñalA:\n",
    "            countA = 1+countA   \n",
    "            if x == MaxfrecA:       \n",
    "                frecA[h] = countA\n",
    "        \n",
    "        Acumulado3dbA = Sen3db + Acumulado3dbA\n",
    "        Acumulado3dbB = Rui3db + Acumulado3dbB\n",
    "\n",
    "SenProm3db = Acumulado3dbA / Repeticiones \n",
    "RuiProm3db = Acumulado3dbB / Repeticiones\n",
    "       \n",
    "plt.figure(1)\n",
    "plt.title('Amp 0.2 - 3db')\n",
    "plt.plot(20*np.log10(SenProm3db[240:260]),label='Senoidal')\n",
    "plt.plot(20*np.log10(RuiProm3db[240:260]),label='Ruido')\n",
    "axes_hdl = plt.gca()\n",
    "axes_hdl.legend()\n",
    "        \n",
    "maximoSen3db = max(20*np.log10(SenProm3db))\n",
    "maximoRui3db = max(20*np.log10(RuiProm3db))\n",
    "        \n",
    "        \n",
    "varianceA = np.var(frecA)\n",
    "\n",
    "SesgoA = sum(frecA - 250) / 200\n",
    "\n",
    "\n",
    "\n",
    "#################################################################\n",
    "\n",
    "frecB = np.zeros(Repeticiones)\n",
    "\n",
    "for j in range(Repeticiones):\n",
    "        ruidoB = np.random.normal(0,2,N)\n",
    "        frB = np.random.uniform(-0.5, 0.5, 1)\n",
    "        O0B = 2*np.pi*(fs/4)\n",
    "        O1B = O0B + frB*2*np.pi\n",
    "        senoidalB = a3db*np.sin(O1B*tt)\n",
    "        señalB = senoidalB + ruidoB            \n",
    "    \n",
    "        pARMASeñalB = sp.parma(señalB, 8, 8, 30, NFFT=N)\n",
    "            \n",
    "        MaxfrecB = max(pARMASeñalB.psd)\n",
    "        countB = -1\n",
    "        for y in pARMASeñalB.psd:\n",
    "            countB = 1+countB   \n",
    "            if y == MaxfrecB:       \n",
    "                frecB[j] = countB\n",
    "        \n",
    "               \n",
    "varianceB = np.var(frecB)   \n",
    "\n",
    "SesgoB = sum(frecB - 250) / 200\n",
    "    \n",
    "###################################################################    \n",
    "\n",
    "a10db = 0.45\n",
    "\n",
    "frecC = np.zeros(Repeticiones)\n",
    "Acumulado10dbA = np.zeros(1000)\n",
    "Acumulado10dbB = np.zeros(1000)\n",
    "\n",
    "for k in range(Repeticiones):\n",
    "        ruidoC = np.random.normal(0,2,N)\n",
    "        frC = np.random.uniform(-0.5, 0.5, 1)\n",
    "        O0C = 2*np.pi*(fs/4)\n",
    "        O1C = O0C + frC*2*np.pi\n",
    "        senoidalC = a10db*np.sin(O1C*tt) \n",
    "        señalC = senoidalC + ruidoC\n",
    "        \n",
    "        Sen10db = np.absolute(np.fft.fft(senoidalC))\n",
    "        \n",
    "        Rui10db = np.absolute(np.fft.fft(ruidoC))\n",
    "        \n",
    "        _, PxxSeñalC = sig.welch(señalC, fs=fs, nfft=N, window='bartlett', nperseg=int(np.round(N/3)) )        \n",
    "        \n",
    "        MaxfrecC = max(PxxSeñalC)\n",
    "        countC = -1\n",
    "        for z in PxxSeñalC:\n",
    "            countC = 1+countC   \n",
    "            if z == MaxfrecC:       \n",
    "                frecC[k] = countC\n",
    "        \n",
    "        Acumulado10dbA = Sen10db + Acumulado10dbA\n",
    "        Acumulado10dbB = Rui10db + Acumulado10dbB\n",
    "\n",
    "SenProm10db = Acumulado10dbA / Repeticiones \n",
    "RuiProm10db = Acumulado10dbB / Repeticiones\n",
    "       \n",
    "plt.figure(2)\n",
    "plt.title('Amp 0.45 - 10db')\n",
    "plt.plot(20*np.log10(SenProm10db[240:260]),label='Senoidal')\n",
    "plt.plot(20*np.log10(RuiProm10db[240:260]),label='Ruido')\n",
    "axes_hdl = plt.gca()\n",
    "axes_hdl.legend()\n",
    "        \n",
    "maximoSen10db = max(20*np.log10(SenProm10db))\n",
    "maximoRui10db = max(20*np.log10(RuiProm10db))\n",
    "        \n",
    "        \n",
    "varianceC = np.var(frecC) \n",
    "\n",
    "SesgoC = sum(frecC - 250) / 200 \n",
    "\n",
    "####################################################################\n",
    "\n",
    "frecD = np.zeros(Repeticiones)\n",
    "\n",
    "for l in range(Repeticiones):\n",
    "        ruidoD = np.random.normal(0,2,N)\n",
    "        frD = np.random.uniform(-0.5, 0.5, 1)\n",
    "        O0D = 2*np.pi*(fs/4)\n",
    "        O1D = O0D + frD*2*np.pi\n",
    "        senoidalD = a10db*np.sin(O1D*tt)\n",
    "        señalD = senoidalD + ruidoD            \n",
    "    \n",
    "        pARMASeñalD = sp.parma(señalD, 8, 8, 30, NFFT=N)\n",
    "    \n",
    "        MaxfrecD = max(pARMASeñalD.psd)\n",
    "        countD = -1\n",
    "        for w in pARMASeñalD.psd:\n",
    "            countD = 1+countD   \n",
    "            if w == MaxfrecD:       \n",
    "                frecD[l] = countD\n",
    "        \n",
    "               \n",
    "varianceD = np.var(frecD)\n",
    "\n",
    "SesgoD = sum(frecD - 250) / 200\n",
    "\n"
   ]
  },
  {
   "cell_type": "code",
   "execution_count": 9,
   "metadata": {},
   "outputs": [
    {
     "data": {
      "text/html": [
       "<table border=\"1\" class=\"dataframe\">\n",
       "  <thead>\n",
       "    <tr style=\"text-align: right;\">\n",
       "      <th></th>\n",
       "      <th>$Senoidal$</th>\n",
       "      <th>$Ruido$</th>\n",
       "    </tr>\n",
       "  </thead>\n",
       "  <tbody>\n",
       "    <tr>\n",
       "      <th>3 dB</th>\n",
       "      <td>38.759740</td>\n",
       "      <td>36.089020</td>\n",
       "    </tr>\n",
       "    <tr>\n",
       "      <th>10 dB</th>\n",
       "      <td>45.829352</td>\n",
       "      <td>35.979243</td>\n",
       "    </tr>\n",
       "  </tbody>\n",
       "</table>"
      ],
      "text/plain": [
       "<IPython.core.display.HTML object>"
      ]
     },
     "execution_count": 9,
     "metadata": {},
     "output_type": "execute_result"
    }
   ],
   "source": [
    "#######################################\n",
    "# Tu simulación que genere resultados #\n",
    "#######################################\n",
    "\n",
    "# Una vez definido tu indicador de performance, calculalo y comparalo para las situaciones pedidas.\n",
    "tus_resultados = [ \n",
    "                   [maximoSen3db, maximoRui3db], # <-- acá debería haber numeritos :)\n",
    "                   [maximoSen10db, maximoRui10db] # <-- acá debería haber numeritos :)\n",
    "                 ]\n",
    "df = DataFrame(tus_resultados, columns=['$Senoidal$', '$Ruido$'],\n",
    "               index=[  \n",
    "                        '3 dB',\n",
    "                        '10 dB'\n",
    "                     ])\n",
    "HTML(df.to_html())"
   ]
  },
  {
   "cell_type": "markdown",
   "metadata": {},
   "source": [
    "   a) ¿Qué estimador ha elegido? Explique brevemente los fundamentos principales y el enfoque del método elegido.\n"
   ]
  },
  {
   "cell_type": "markdown",
   "metadata": {},
   "source": [
    "<div class=\"alert alert-block alert-warning\">\n",
    "<b>Respuesta:</b> El metodo ARMA cuenta con la unión de un modelo autoregresivo, el cual seria un filtro de respuesta infinita, junto a un modelo de media movil, que seria un filtro de respuesta finita. Este metodo intenta utilizar informacion a priori para asi lograr un mayor rendimiento, sin embargo puede verse afectado en mayor grado a valores atipicos.\n",
    "</div>"
   ]
  },
  {
   "cell_type": "markdown",
   "metadata": {},
   "source": [
    "   b) ¿Qué indicador considera que sería apropiado para poder comparar el rendimiento de ambos estimadores $i_j$?\n"
   ]
  },
  {
   "cell_type": "markdown",
   "metadata": {},
   "source": [
    "<div class=\"alert alert-block alert-warning\">\n",
    "<b>Respuesta:</b> Mediante la varianza se aprecia correctamente la mejora que surge de aumentar la distancia entre el ruido y el pico de la señal a estimar.\n",
    "</div>"
   ]
  },
  {
   "cell_type": "code",
   "execution_count": 11,
   "metadata": {
    "scrolled": false
   },
   "outputs": [
    {
     "data": {
      "text/html": [
       "<table border=\"1\" class=\"dataframe\">\n",
       "  <thead>\n",
       "    <tr style=\"text-align: right;\">\n",
       "      <th></th>\n",
       "      <th>$Varianza$</th>\n",
       "      <th>$Sesgo$</th>\n",
       "    </tr>\n",
       "  </thead>\n",
       "  <tbody>\n",
       "    <tr>\n",
       "      <th>Welch 3 dB</th>\n",
       "      <td>19403.265100</td>\n",
       "      <td>1.070</td>\n",
       "    </tr>\n",
       "    <tr>\n",
       "      <th>Welch 10 dB</th>\n",
       "      <td>5945.797975</td>\n",
       "      <td>0.455</td>\n",
       "    </tr>\n",
       "    <tr>\n",
       "      <th>ARMA 3 dB</th>\n",
       "      <td>23734.972975</td>\n",
       "      <td>0.795</td>\n",
       "    </tr>\n",
       "    <tr>\n",
       "      <th>ARMA 10 dB</th>\n",
       "      <td>13209.601600</td>\n",
       "      <td>-3.780</td>\n",
       "    </tr>\n",
       "  </tbody>\n",
       "</table>"
      ],
      "text/plain": [
       "<IPython.core.display.HTML object>"
      ]
     },
     "execution_count": 11,
     "metadata": {},
     "output_type": "execute_result"
    }
   ],
   "source": [
    "\n",
    "#######################################\n",
    "# Tu simulación que genere resultados #\n",
    "#######################################\n",
    "\n",
    "# Una vez definido tu indicador de performance, calculalo y comparalo para las situaciones pedidas.\n",
    "tus_resultados = [ \n",
    "                   [varianceA, SesgoA], \n",
    "                   [varianceC, SesgoC],\n",
    "                   [varianceB, SesgoB],\n",
    "                   [varianceD, SesgoD]\n",
    "                 ]\n",
    "df = DataFrame(tus_resultados, columns=['$Varianza$', '$Sesgo$'],\n",
    "               index=[  \n",
    "                        'Welch 3 dB',\n",
    "                        'Welch 10 dB',\n",
    "                        'ARMA 3 dB',\n",
    "                        'ARMA 10 dB'\n",
    "                     ])\n",
    "HTML(df.to_html())\n"
   ]
  }
 ],
 "metadata": {
  "kernelspec": {
   "display_name": "Python 3",
   "language": "python",
   "name": "python3"
  },
  "language_info": {
   "codemirror_mode": {
    "name": "ipython",
    "version": 3
   },
   "file_extension": ".py",
   "mimetype": "text/x-python",
   "name": "python",
   "nbconvert_exporter": "python",
   "pygments_lexer": "ipython3",
   "version": "3.6.5"
  }
 },
 "nbformat": 4,
 "nbformat_minor": 2
}
